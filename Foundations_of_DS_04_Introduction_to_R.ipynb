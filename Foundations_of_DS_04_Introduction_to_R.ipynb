{
  "nbformat": 4,
  "nbformat_minor": 0,
  "metadata": {
    "colab": {
      "provenance": [],
      "toc_visible": true
    },
    "kernelspec": {
      "name": "ir",
      "display_name": "R"
    },
    "language_info": {
      "name": "R"
    }
  },
  "cells": [
    {
      "cell_type": "markdown",
      "source": [
        "# Using R as a calculator"
      ],
      "metadata": {
        "id": "LM0jjJ3VFoKs"
      }
    },
    {
      "cell_type": "code",
      "execution_count": null,
      "metadata": {
        "colab": {
          "base_uri": "https://localhost:8080/",
          "height": 34
        },
        "id": "57tk0FzDDslE",
        "outputId": "39e3ab44-88c6-445b-feb3-8f83a2467b03"
      },
      "outputs": [
        {
          "output_type": "display_data",
          "data": {
            "text/html": [
              "5"
            ],
            "text/markdown": "5",
            "text/latex": "5",
            "text/plain": [
              "[1] 5"
            ]
          },
          "metadata": {}
        }
      ],
      "source": [
        "3 + 2"
      ]
    },
    {
      "cell_type": "code",
      "source": [
        "3 * 4"
      ],
      "metadata": {
        "colab": {
          "base_uri": "https://localhost:8080/",
          "height": 34
        },
        "id": "WUuuUbmxE1zO",
        "outputId": "ac62dda6-5c67-45c7-f403-4a85d6e344f9"
      },
      "execution_count": null,
      "outputs": [
        {
          "output_type": "display_data",
          "data": {
            "text/html": [
              "12"
            ],
            "text/markdown": "12",
            "text/latex": "12",
            "text/plain": [
              "[1] 12"
            ]
          },
          "metadata": {}
        }
      ]
    },
    {
      "cell_type": "code",
      "source": [
        "3 / 2"
      ],
      "metadata": {
        "colab": {
          "base_uri": "https://localhost:8080/",
          "height": 34
        },
        "id": "tFkG7DNFE3zh",
        "outputId": "78009c80-4440-434c-d4a6-d7980691e9d8"
      },
      "execution_count": null,
      "outputs": [
        {
          "output_type": "display_data",
          "data": {
            "text/html": [
              "1.5"
            ],
            "text/markdown": "1.5",
            "text/latex": "1.5",
            "text/plain": [
              "[1] 1.5"
            ]
          },
          "metadata": {}
        }
      ]
    },
    {
      "cell_type": "code",
      "source": [
        "3 ^ 2"
      ],
      "metadata": {
        "colab": {
          "base_uri": "https://localhost:8080/",
          "height": 34
        },
        "id": "lWIJ4zwfE4tR",
        "outputId": "1f48adb6-a76f-4ee7-e329-5105150cc52b"
      },
      "execution_count": null,
      "outputs": [
        {
          "output_type": "display_data",
          "data": {
            "text/html": [
              "9"
            ],
            "text/markdown": "9",
            "text/latex": "9",
            "text/plain": [
              "[1] 9"
            ]
          },
          "metadata": {}
        }
      ]
    },
    {
      "cell_type": "code",
      "source": [
        "3 ^ 0.5"
      ],
      "metadata": {
        "colab": {
          "base_uri": "https://localhost:8080/",
          "height": 34
        },
        "id": "NbCrQEuFE50H",
        "outputId": "100ee2c7-82e1-49b5-c3f8-44c48a339b4b"
      },
      "execution_count": null,
      "outputs": [
        {
          "output_type": "display_data",
          "data": {
            "text/html": [
              "1.73205080756888"
            ],
            "text/markdown": "1.73205080756888",
            "text/latex": "1.73205080756888",
            "text/plain": [
              "[1] 1.732051"
            ]
          },
          "metadata": {}
        }
      ]
    },
    {
      "cell_type": "code",
      "source": [
        "# Unlike Python's \"_\", R has no support for thousand separators when inputting numbers.\n",
        "revenue = 100000\n",
        "costs = 40000\n",
        "profit = revenue - costs"
      ],
      "metadata": {
        "id": "OLy25d4UE7EA"
      },
      "execution_count": null,
      "outputs": []
    },
    {
      "cell_type": "code",
      "source": [
        "profit"
      ],
      "metadata": {
        "colab": {
          "base_uri": "https://localhost:8080/",
          "height": 34
        },
        "id": "r4gVEX5kE95n",
        "outputId": "3926163b-2521-45a5-ea93-f6cbbcc71a65"
      },
      "execution_count": null,
      "outputs": [
        {
          "output_type": "display_data",
          "data": {
            "text/html": [
              "60000"
            ],
            "text/markdown": "60000",
            "text/latex": "60000",
            "text/plain": [
              "[1] 60000"
            ]
          },
          "metadata": {}
        }
      ]
    },
    {
      "cell_type": "code",
      "source": [
        "tax_rate = 0.15\n",
        "net_profit = profit * (1 - tax_rate)"
      ],
      "metadata": {
        "id": "f5Bj6u_mFg2L"
      },
      "execution_count": null,
      "outputs": []
    },
    {
      "cell_type": "code",
      "source": [
        "net_profit"
      ],
      "metadata": {
        "colab": {
          "base_uri": "https://localhost:8080/",
          "height": 34
        },
        "id": "f3_XYLGmFmsV",
        "outputId": "cf7b4c79-7809-4f99-e1e5-fafa11914291"
      },
      "execution_count": null,
      "outputs": [
        {
          "output_type": "display_data",
          "data": {
            "text/html": [
              "51000"
            ],
            "text/markdown": "51000",
            "text/latex": "51000",
            "text/plain": [
              "[1] 51000"
            ]
          },
          "metadata": {}
        }
      ]
    },
    {
      "cell_type": "markdown",
      "source": [
        "# Integer vs. floating-point numbers\n",
        "\n",
        "Unlike basically any other programming language, a variable in `R` has a mode (how it's stored in memory) and a class (an abstract type). Additionally, it also has a type."
      ],
      "metadata": {
        "id": "70WlvrZaGLOH"
      }
    },
    {
      "cell_type": "code",
      "source": [
        "class(revenue)"
      ],
      "metadata": {
        "colab": {
          "base_uri": "https://localhost:8080/",
          "height": 34
        },
        "id": "Ckha_J_MGBAZ",
        "outputId": "1742f778-d487-44ea-989a-d04c3d6201f4"
      },
      "execution_count": null,
      "outputs": [
        {
          "output_type": "display_data",
          "data": {
            "text/html": [
              "'numeric'"
            ],
            "text/markdown": "'numeric'",
            "text/latex": "'numeric'",
            "text/plain": [
              "[1] \"numeric\""
            ]
          },
          "metadata": {}
        }
      ]
    },
    {
      "cell_type": "code",
      "source": [
        "mode(revenue)"
      ],
      "metadata": {
        "colab": {
          "base_uri": "https://localhost:8080/",
          "height": 34
        },
        "id": "bw0yBNd1F52X",
        "outputId": "9fd112a6-7e86-4355-d959-df096cb72b44"
      },
      "execution_count": null,
      "outputs": [
        {
          "output_type": "display_data",
          "data": {
            "text/html": [
              "'numeric'"
            ],
            "text/markdown": "'numeric'",
            "text/latex": "'numeric'",
            "text/plain": [
              "[1] \"numeric\""
            ]
          },
          "metadata": {}
        }
      ]
    },
    {
      "cell_type": "code",
      "source": [
        "typeof(revenue)"
      ],
      "metadata": {
        "colab": {
          "base_uri": "https://localhost:8080/",
          "height": 34
        },
        "id": "QwGhXkuLFnI_",
        "outputId": "4ef3ec2d-c247-42a3-f375-2240abbe7f51"
      },
      "execution_count": null,
      "outputs": [
        {
          "output_type": "display_data",
          "data": {
            "text/html": [
              "'double'"
            ],
            "text/markdown": "'double'",
            "text/latex": "'double'",
            "text/plain": [
              "[1] \"double\""
            ]
          },
          "metadata": {}
        }
      ]
    },
    {
      "cell_type": "markdown",
      "source": [
        "By default, numeric literals are double. To create an integer you need the `L` suffix."
      ],
      "metadata": {
        "id": "mLefWf6hG1Hf"
      }
    },
    {
      "cell_type": "code",
      "source": [
        "foo = 10L"
      ],
      "metadata": {
        "id": "WImSkq6qFva0"
      },
      "execution_count": null,
      "outputs": []
    },
    {
      "cell_type": "code",
      "source": [
        "class(foo)"
      ],
      "metadata": {
        "colab": {
          "base_uri": "https://localhost:8080/",
          "height": 34
        },
        "id": "JlvJHIqFG8Gu",
        "outputId": "164b25f0-3b45-4af5-d72b-a038f2fc768b"
      },
      "execution_count": null,
      "outputs": [
        {
          "output_type": "display_data",
          "data": {
            "text/html": [
              "'integer'"
            ],
            "text/markdown": "'integer'",
            "text/latex": "'integer'",
            "text/plain": [
              "[1] \"integer\""
            ]
          },
          "metadata": {}
        }
      ]
    },
    {
      "cell_type": "code",
      "source": [
        "mode(foo)"
      ],
      "metadata": {
        "colab": {
          "base_uri": "https://localhost:8080/",
          "height": 34
        },
        "id": "1O4od97LG9Ch",
        "outputId": "30a1f6f5-5c95-4f9f-9919-a35058793b1f"
      },
      "execution_count": null,
      "outputs": [
        {
          "output_type": "display_data",
          "data": {
            "text/html": [
              "'numeric'"
            ],
            "text/markdown": "'numeric'",
            "text/latex": "'numeric'",
            "text/plain": [
              "[1] \"numeric\""
            ]
          },
          "metadata": {}
        }
      ]
    },
    {
      "cell_type": "code",
      "source": [
        "typeof(foo)"
      ],
      "metadata": {
        "colab": {
          "base_uri": "https://localhost:8080/",
          "height": 34
        },
        "id": "qPiBNqgWG9vD",
        "outputId": "233cb468-d1c6-4517-96b1-c0df908d3dc5"
      },
      "execution_count": null,
      "outputs": [
        {
          "output_type": "display_data",
          "data": {
            "text/html": [
              "'integer'"
            ],
            "text/markdown": "'integer'",
            "text/latex": "'integer'",
            "text/plain": [
              "[1] \"integer\""
            ]
          },
          "metadata": {}
        }
      ]
    },
    {
      "cell_type": "markdown",
      "source": [
        "You can also convert to integer with `as.integer`."
      ],
      "metadata": {
        "id": "OkK0KiupHLyB"
      }
    },
    {
      "cell_type": "code",
      "source": [
        "as.integer(profit)"
      ],
      "metadata": {
        "colab": {
          "base_uri": "https://localhost:8080/",
          "height": 34
        },
        "id": "GfPyqbTEG-l4",
        "outputId": "90e01ff8-1782-4ba0-a222-611e0e6423b5"
      },
      "execution_count": null,
      "outputs": [
        {
          "output_type": "display_data",
          "data": {
            "text/html": [
              "60000"
            ],
            "text/markdown": "60000",
            "text/latex": "60000",
            "text/plain": [
              "[1] 60000"
            ]
          },
          "metadata": {}
        }
      ]
    },
    {
      "cell_type": "markdown",
      "source": [
        "# Dealing with text: strings"
      ],
      "metadata": {
        "id": "X5DhPt-7HSIg"
      }
    },
    {
      "cell_type": "code",
      "source": [
        "name = \"Jean\"\n",
        "surname = 'Valjean'"
      ],
      "metadata": {
        "id": "bVUFIzBkHJFT"
      },
      "execution_count": null,
      "outputs": []
    },
    {
      "cell_type": "markdown",
      "source": [
        "R does not have an analog of Python's f-strings. The most similar effect can be achieved using a third-party package, `glue`."
      ],
      "metadata": {
        "id": "Co95JDC1Hi-H"
      }
    },
    {
      "cell_type": "code",
      "source": [
        "library(glue)"
      ],
      "metadata": {
        "id": "qDrhNJVEHtcF"
      },
      "execution_count": null,
      "outputs": []
    },
    {
      "cell_type": "code",
      "source": [
        "glue(\"Hello, {name} {surname}.\")"
      ],
      "metadata": {
        "colab": {
          "base_uri": "https://localhost:8080/",
          "height": 34
        },
        "id": "NUJOOxwjHxkW",
        "outputId": "93e95e43-bd48-4927-82ac-6f68d3851da0"
      },
      "execution_count": null,
      "outputs": [
        {
          "output_type": "display_data",
          "data": {
            "text/html": [
              "'Hello, Jean Valjean.'"
            ],
            "text/markdown": "'Hello, Jean Valjean.'",
            "text/latex": "'Hello, Jean Valjean.'",
            "text/plain": [
              "Hello, Jean Valjean."
            ]
          },
          "metadata": {}
        }
      ]
    },
    {
      "cell_type": "markdown",
      "source": [
        "## Formatting numbers within strings"
      ],
      "metadata": {
        "id": "WFJQd14FIBBf"
      }
    },
    {
      "cell_type": "code",
      "source": [
        "glue(\"The net profit is: {net_profit}\")"
      ],
      "metadata": {
        "colab": {
          "base_uri": "https://localhost:8080/",
          "height": 34
        },
        "id": "54akh2tXH2vd",
        "outputId": "829eccf6-dafa-45f7-f4de-e00b29c94059"
      },
      "execution_count": null,
      "outputs": [
        {
          "output_type": "display_data",
          "data": {
            "text/html": [
              "'The net profit is: 51000'"
            ],
            "text/markdown": "'The net profit is: 51000'",
            "text/latex": "'The net profit is: 51000'",
            "text/plain": [
              "The net profit is: 51000"
            ]
          },
          "metadata": {}
        }
      ]
    },
    {
      "cell_type": "markdown",
      "source": [
        "Still, Glue does not support format specifiers similar to Python's. You can use the `format` function inside Glue's curly braces to achieve the same result."
      ],
      "metadata": {
        "id": "hE_VpfNkJHbd"
      }
    },
    {
      "cell_type": "code",
      "source": [
        "glue(\"The net profit is: {format(net_profit, nsmall=2)}\")"
      ],
      "metadata": {
        "colab": {
          "base_uri": "https://localhost:8080/",
          "height": 34
        },
        "id": "Iw6hdSE0IFh1",
        "outputId": "858c130d-8ce4-41d9-d799-c85852d9966a"
      },
      "execution_count": null,
      "outputs": [
        {
          "output_type": "display_data",
          "data": {
            "text/html": [
              "'The net profit is: 51000.00'"
            ],
            "text/markdown": "'The net profit is: 51000.00'",
            "text/latex": "'The net profit is: 51000.00'",
            "text/plain": [
              "The net profit is: 51000.00"
            ]
          },
          "metadata": {}
        }
      ]
    },
    {
      "cell_type": "code",
      "source": [
        "glue(\"The net profit is: {format(net_profit, nsmall=2, big.mark=',')}\")"
      ],
      "metadata": {
        "colab": {
          "base_uri": "https://localhost:8080/",
          "height": 34
        },
        "id": "KDMAhuZlIpB6",
        "outputId": "dc46cd43-18fb-42e0-9b7d-787803d4cde5"
      },
      "execution_count": null,
      "outputs": [
        {
          "output_type": "display_data",
          "data": {
            "text/html": [
              "'The net profit is: 51,000.00'"
            ],
            "text/markdown": "'The net profit is: 51,000.00'",
            "text/latex": "'The net profit is: 51,000.00'",
            "text/plain": [
              "The net profit is: 51,000.00"
            ]
          },
          "metadata": {}
        }
      ]
    },
    {
      "cell_type": "markdown",
      "source": [
        "Similarly, to correctly print fractions as percentages, we need yet another library: `scales`. We will use its `percent` function."
      ],
      "metadata": {
        "id": "YfxivS1jJ75_"
      }
    },
    {
      "cell_type": "code",
      "source": [
        "library(\"scales\")"
      ],
      "metadata": {
        "id": "eG1YJ7sqJSOA"
      },
      "execution_count": null,
      "outputs": []
    },
    {
      "cell_type": "code",
      "source": [
        "glue(\"The tax rate is: {percent(tax_rate)}\")"
      ],
      "metadata": {
        "colab": {
          "base_uri": "https://localhost:8080/",
          "height": 34
        },
        "id": "5tA3_AaDJvQ_",
        "outputId": "f9646540-af00-4472-f99e-275df5bb3eec"
      },
      "execution_count": null,
      "outputs": [
        {
          "output_type": "display_data",
          "data": {
            "text/html": [
              "'The tax rate is: 15%'"
            ],
            "text/markdown": "'The tax rate is: 15%'",
            "text/latex": "'The tax rate is: 15\\%'",
            "text/plain": [
              "The tax rate is: 15%"
            ]
          },
          "metadata": {}
        }
      ]
    },
    {
      "cell_type": "markdown",
      "source": [
        "# Logical operators"
      ],
      "metadata": {
        "id": "aPfyqw88KRMh"
      }
    },
    {
      "cell_type": "code",
      "source": [
        "net_profit > 10000"
      ],
      "metadata": {
        "colab": {
          "base_uri": "https://localhost:8080/",
          "height": 34
        },
        "id": "t0cRTRrCJxHj",
        "outputId": "43543160-e3e0-4d0e-fdbd-83cbb13b4617"
      },
      "execution_count": null,
      "outputs": [
        {
          "output_type": "display_data",
          "data": {
            "text/html": [
              "TRUE"
            ],
            "text/markdown": "TRUE",
            "text/latex": "TRUE",
            "text/plain": [
              "[1] TRUE"
            ]
          },
          "metadata": {}
        }
      ]
    },
    {
      "cell_type": "code",
      "source": [
        "net_profit <= 12000"
      ],
      "metadata": {
        "colab": {
          "base_uri": "https://localhost:8080/",
          "height": 34
        },
        "id": "hLleMxMUKPgE",
        "outputId": "91fee627-bf63-47f2-c0fb-94df5b62edab"
      },
      "execution_count": null,
      "outputs": [
        {
          "output_type": "display_data",
          "data": {
            "text/html": [
              "FALSE"
            ],
            "text/markdown": "FALSE",
            "text/latex": "FALSE",
            "text/plain": [
              "[1] FALSE"
            ]
          },
          "metadata": {}
        }
      ]
    },
    {
      "cell_type": "code",
      "source": [
        "net_profit == 51000"
      ],
      "metadata": {
        "colab": {
          "base_uri": "https://localhost:8080/",
          "height": 34
        },
        "id": "HN651ek4KT6U",
        "outputId": "958ab496-3701-4964-d32e-4e3f7a6be57f"
      },
      "execution_count": null,
      "outputs": [
        {
          "output_type": "display_data",
          "data": {
            "text/html": [
              "TRUE"
            ],
            "text/markdown": "TRUE",
            "text/latex": "TRUE",
            "text/plain": [
              "[1] TRUE"
            ]
          },
          "metadata": {}
        }
      ]
    },
    {
      "cell_type": "code",
      "source": [
        "net_profit > 40000 && tax_rate < 0.25"
      ],
      "metadata": {
        "colab": {
          "base_uri": "https://localhost:8080/",
          "height": 34
        },
        "id": "XnUOBVUVKV2e",
        "outputId": "56f422e2-5b9e-4e29-d97a-360e4984e1e3"
      },
      "execution_count": null,
      "outputs": [
        {
          "output_type": "display_data",
          "data": {
            "text/html": [
              "TRUE"
            ],
            "text/markdown": "TRUE",
            "text/latex": "TRUE",
            "text/plain": [
              "[1] TRUE"
            ]
          },
          "metadata": {}
        }
      ]
    },
    {
      "cell_type": "code",
      "source": [
        "net_profit <= 10000 || tax_rate >= 0.3"
      ],
      "metadata": {
        "colab": {
          "base_uri": "https://localhost:8080/",
          "height": 34
        },
        "id": "rZlK0bnnKZa8",
        "outputId": "8f702d69-716e-4725-9e2c-a2719eceb0e4"
      },
      "execution_count": null,
      "outputs": [
        {
          "output_type": "display_data",
          "data": {
            "text/html": [
              "FALSE"
            ],
            "text/markdown": "FALSE",
            "text/latex": "FALSE",
            "text/plain": [
              "[1] FALSE"
            ]
          },
          "metadata": {}
        }
      ]
    },
    {
      "cell_type": "markdown",
      "source": [
        "# The first data structure: a vector"
      ],
      "metadata": {
        "id": "ywmcW5GAK5xW"
      }
    },
    {
      "cell_type": "code",
      "source": [
        "v = c(1, 2, 3)"
      ],
      "metadata": {
        "id": "DuihCSP9Kfct"
      },
      "execution_count": null,
      "outputs": []
    },
    {
      "cell_type": "markdown",
      "source": [
        "In R, everything is a vector, so `v` does not have any special class, mode, or type. On the contrary, we could say that, e.g., `profit` is a length-one vector containing one double."
      ],
      "metadata": {
        "id": "XcUbejBPLGYX"
      }
    },
    {
      "cell_type": "code",
      "source": [
        "class(v)"
      ],
      "metadata": {
        "colab": {
          "base_uri": "https://localhost:8080/",
          "height": 34
        },
        "id": "QjBsKEGrKnb8",
        "outputId": "43bfe99a-0c9b-4c99-dbab-4b541c8c881d"
      },
      "execution_count": null,
      "outputs": [
        {
          "output_type": "display_data",
          "data": {
            "text/html": [
              "'numeric'"
            ],
            "text/markdown": "'numeric'",
            "text/latex": "'numeric'",
            "text/plain": [
              "[1] \"numeric\""
            ]
          },
          "metadata": {}
        }
      ]
    },
    {
      "cell_type": "code",
      "source": [
        "mode(v)"
      ],
      "metadata": {
        "colab": {
          "base_uri": "https://localhost:8080/",
          "height": 34
        },
        "id": "bFpSdM8nKrSx",
        "outputId": "8a930a9f-1d2a-45b6-dbc7-093baca95e3e"
      },
      "execution_count": null,
      "outputs": [
        {
          "output_type": "display_data",
          "data": {
            "text/html": [
              "'numeric'"
            ],
            "text/markdown": "'numeric'",
            "text/latex": "'numeric'",
            "text/plain": [
              "[1] \"numeric\""
            ]
          },
          "metadata": {}
        }
      ]
    },
    {
      "cell_type": "code",
      "source": [
        "typeof(v)"
      ],
      "metadata": {
        "colab": {
          "base_uri": "https://localhost:8080/",
          "height": 34
        },
        "id": "gzDrmEAdKsRB",
        "outputId": "ba22123b-23d8-40ed-bb4c-6fde71f5da3c"
      },
      "execution_count": null,
      "outputs": [
        {
          "output_type": "display_data",
          "data": {
            "text/html": [
              "'double'"
            ],
            "text/markdown": "'double'",
            "text/latex": "'double'",
            "text/plain": [
              "[1] \"double\""
            ]
          },
          "metadata": {}
        }
      ]
    },
    {
      "cell_type": "code",
      "source": [
        "surnames = c(\"Valjean\", \"Javert\", \"Myriel\")\n",
        "ages = c(40, 38, 62)"
      ],
      "metadata": {
        "id": "d3TT-QyTKtuE"
      },
      "execution_count": null,
      "outputs": []
    },
    {
      "cell_type": "code",
      "source": [
        "surnames"
      ],
      "metadata": {
        "colab": {
          "base_uri": "https://localhost:8080/",
          "height": 34
        },
        "id": "43rrYYHjLXVn",
        "outputId": "97461fd1-61fe-4087-bae2-f007bcf6ec0e"
      },
      "execution_count": null,
      "outputs": [
        {
          "output_type": "display_data",
          "data": {
            "text/html": [
              "<style>\n",
              ".list-inline {list-style: none; margin:0; padding: 0}\n",
              ".list-inline>li {display: inline-block}\n",
              ".list-inline>li:not(:last-child)::after {content: \"\\00b7\"; padding: 0 .5ex}\n",
              "</style>\n",
              "<ol class=list-inline><li>'Valjean'</li><li>'Javert'</li><li>'Myriel'</li></ol>\n"
            ],
            "text/markdown": "1. 'Valjean'\n2. 'Javert'\n3. 'Myriel'\n\n\n",
            "text/latex": "\\begin{enumerate*}\n\\item 'Valjean'\n\\item 'Javert'\n\\item 'Myriel'\n\\end{enumerate*}\n",
            "text/plain": [
              "[1] \"Valjean\" \"Javert\"  \"Myriel\" "
            ]
          },
          "metadata": {}
        }
      ]
    },
    {
      "cell_type": "code",
      "source": [
        "ages"
      ],
      "metadata": {
        "colab": {
          "base_uri": "https://localhost:8080/",
          "height": 34
        },
        "id": "VessLHr6LbR3",
        "outputId": "cf128589-163c-48c7-ea07-26098eacd884"
      },
      "execution_count": null,
      "outputs": [
        {
          "output_type": "display_data",
          "data": {
            "text/html": [
              "<style>\n",
              ".list-inline {list-style: none; margin:0; padding: 0}\n",
              ".list-inline>li {display: inline-block}\n",
              ".list-inline>li:not(:last-child)::after {content: \"\\00b7\"; padding: 0 .5ex}\n",
              "</style>\n",
              "<ol class=list-inline><li>40</li><li>38</li><li>62</li></ol>\n"
            ],
            "text/markdown": "1. 40\n2. 38\n3. 62\n\n\n",
            "text/latex": "\\begin{enumerate*}\n\\item 40\n\\item 38\n\\item 62\n\\end{enumerate*}\n",
            "text/plain": [
              "[1] 40 38 62"
            ]
          },
          "metadata": {}
        }
      ]
    },
    {
      "cell_type": "code",
      "source": [
        "append(surnames, \"Pontmercy\")\n",
        "append(ages, 26)"
      ],
      "metadata": {
        "colab": {
          "base_uri": "https://localhost:8080/",
          "height": 52
        },
        "id": "uThE86q6Lbn9",
        "outputId": "9177dc2a-5a3f-4668-cf41-e5184d461365"
      },
      "execution_count": null,
      "outputs": [
        {
          "output_type": "display_data",
          "data": {
            "text/html": [
              "<style>\n",
              ".list-inline {list-style: none; margin:0; padding: 0}\n",
              ".list-inline>li {display: inline-block}\n",
              ".list-inline>li:not(:last-child)::after {content: \"\\00b7\"; padding: 0 .5ex}\n",
              "</style>\n",
              "<ol class=list-inline><li>'Valjean'</li><li>'Javert'</li><li>'Myriel'</li><li>'Pontmercy'</li></ol>\n"
            ],
            "text/markdown": "1. 'Valjean'\n2. 'Javert'\n3. 'Myriel'\n4. 'Pontmercy'\n\n\n",
            "text/latex": "\\begin{enumerate*}\n\\item 'Valjean'\n\\item 'Javert'\n\\item 'Myriel'\n\\item 'Pontmercy'\n\\end{enumerate*}\n",
            "text/plain": [
              "[1] \"Valjean\"   \"Javert\"    \"Myriel\"    \"Pontmercy\""
            ]
          },
          "metadata": {}
        },
        {
          "output_type": "display_data",
          "data": {
            "text/html": [
              "<style>\n",
              ".list-inline {list-style: none; margin:0; padding: 0}\n",
              ".list-inline>li {display: inline-block}\n",
              ".list-inline>li:not(:last-child)::after {content: \"\\00b7\"; padding: 0 .5ex}\n",
              "</style>\n",
              "<ol class=list-inline><li>40</li><li>38</li><li>62</li><li>26</li></ol>\n"
            ],
            "text/markdown": "1. 40\n2. 38\n3. 62\n4. 26\n\n\n",
            "text/latex": "\\begin{enumerate*}\n\\item 40\n\\item 38\n\\item 62\n\\item 26\n\\end{enumerate*}\n",
            "text/plain": [
              "[1] 40 38 62 26"
            ]
          },
          "metadata": {}
        }
      ]
    },
    {
      "cell_type": "code",
      "source": [
        "surnames"
      ],
      "metadata": {
        "colab": {
          "base_uri": "https://localhost:8080/",
          "height": 34
        },
        "id": "4cvU_o8vLnKv",
        "outputId": "b7a705f6-6f06-49c1-b88f-b564dce78185"
      },
      "execution_count": null,
      "outputs": [
        {
          "output_type": "display_data",
          "data": {
            "text/html": [
              "<style>\n",
              ".list-inline {list-style: none; margin:0; padding: 0}\n",
              ".list-inline>li {display: inline-block}\n",
              ".list-inline>li:not(:last-child)::after {content: \"\\00b7\"; padding: 0 .5ex}\n",
              "</style>\n",
              "<ol class=list-inline><li>'Valjean'</li><li>'Javert'</li><li>'Myriel'</li></ol>\n"
            ],
            "text/markdown": "1. 'Valjean'\n2. 'Javert'\n3. 'Myriel'\n\n\n",
            "text/latex": "\\begin{enumerate*}\n\\item 'Valjean'\n\\item 'Javert'\n\\item 'Myriel'\n\\end{enumerate*}\n",
            "text/plain": [
              "[1] \"Valjean\" \"Javert\"  \"Myriel\" "
            ]
          },
          "metadata": {}
        }
      ]
    },
    {
      "cell_type": "markdown",
      "source": [
        "In R, append does not change the vector in-place. This forces you to type the vector variable name twice."
      ],
      "metadata": {
        "id": "Q8pQX2pJLqHh"
      }
    },
    {
      "cell_type": "code",
      "source": [
        "surnames = append(surnames, \"Pontmercy\")\n",
        "ages = append(ages, 26)"
      ],
      "metadata": {
        "id": "DOzMKO75Lo1W"
      },
      "execution_count": null,
      "outputs": []
    },
    {
      "cell_type": "code",
      "source": [
        "surnames"
      ],
      "metadata": {
        "colab": {
          "base_uri": "https://localhost:8080/",
          "height": 34
        },
        "id": "xP8ypqM9LvuW",
        "outputId": "d9559c15-fe64-482a-93dc-89e9330ff560"
      },
      "execution_count": null,
      "outputs": [
        {
          "output_type": "display_data",
          "data": {
            "text/html": [
              "<style>\n",
              ".list-inline {list-style: none; margin:0; padding: 0}\n",
              ".list-inline>li {display: inline-block}\n",
              ".list-inline>li:not(:last-child)::after {content: \"\\00b7\"; padding: 0 .5ex}\n",
              "</style>\n",
              "<ol class=list-inline><li>'Valjean'</li><li>'Javert'</li><li>'Myriel'</li><li>'Pontmercy'</li></ol>\n"
            ],
            "text/markdown": "1. 'Valjean'\n2. 'Javert'\n3. 'Myriel'\n4. 'Pontmercy'\n\n\n",
            "text/latex": "\\begin{enumerate*}\n\\item 'Valjean'\n\\item 'Javert'\n\\item 'Myriel'\n\\item 'Pontmercy'\n\\end{enumerate*}\n",
            "text/plain": [
              "[1] \"Valjean\"   \"Javert\"    \"Myriel\"    \"Pontmercy\""
            ]
          },
          "metadata": {}
        }
      ]
    },
    {
      "cell_type": "code",
      "source": [
        "ages"
      ],
      "metadata": {
        "colab": {
          "base_uri": "https://localhost:8080/",
          "height": 34
        },
        "id": "g5pEPVysLwK9",
        "outputId": "3212c3d9-084f-4bb9-fdd0-fcb80dbdab8b"
      },
      "execution_count": null,
      "outputs": [
        {
          "output_type": "display_data",
          "data": {
            "text/html": [
              "<style>\n",
              ".list-inline {list-style: none; margin:0; padding: 0}\n",
              ".list-inline>li {display: inline-block}\n",
              ".list-inline>li:not(:last-child)::after {content: \"\\00b7\"; padding: 0 .5ex}\n",
              "</style>\n",
              "<ol class=list-inline><li>40</li><li>38</li><li>62</li><li>26</li></ol>\n"
            ],
            "text/markdown": "1. 40\n2. 38\n3. 62\n4. 26\n\n\n",
            "text/latex": "\\begin{enumerate*}\n\\item 40\n\\item 38\n\\item 62\n\\item 26\n\\end{enumerate*}\n",
            "text/plain": [
              "[1] 40 38 62 26"
            ]
          },
          "metadata": {}
        }
      ]
    },
    {
      "cell_type": "markdown",
      "source": [
        "You cannot have mixed-type vectors in R. If you try, everything gets converted to the \"most common\" type. If you try mixing numbers and strings, for example, everything becomes a string."
      ],
      "metadata": {
        "id": "9gZB-ZkPMI61"
      }
    },
    {
      "cell_type": "code",
      "source": [
        "mixed_vector = c(24L, \"Barcelona\", TRUE, 5.6)"
      ],
      "metadata": {
        "id": "g8f7SVHLLwgK"
      },
      "execution_count": null,
      "outputs": []
    },
    {
      "cell_type": "code",
      "source": [
        "mixed_vector"
      ],
      "metadata": {
        "colab": {
          "base_uri": "https://localhost:8080/",
          "height": 34
        },
        "id": "pt3mhUOxMD-V",
        "outputId": "20aa4a0d-1e15-4aa6-c3fe-fd212c9b14a8"
      },
      "execution_count": null,
      "outputs": [
        {
          "output_type": "display_data",
          "data": {
            "text/html": [
              "<style>\n",
              ".list-inline {list-style: none; margin:0; padding: 0}\n",
              ".list-inline>li {display: inline-block}\n",
              ".list-inline>li:not(:last-child)::after {content: \"\\00b7\"; padding: 0 .5ex}\n",
              "</style>\n",
              "<ol class=list-inline><li>'24'</li><li>'Barcelona'</li><li>'TRUE'</li><li>'5.6'</li></ol>\n"
            ],
            "text/markdown": "1. '24'\n2. 'Barcelona'\n3. 'TRUE'\n4. '5.6'\n\n\n",
            "text/latex": "\\begin{enumerate*}\n\\item '24'\n\\item 'Barcelona'\n\\item 'TRUE'\n\\item '5.6'\n\\end{enumerate*}\n",
            "text/plain": [
              "[1] \"24\"        \"Barcelona\" \"TRUE\"      \"5.6\"      "
            ]
          },
          "metadata": {}
        }
      ]
    },
    {
      "cell_type": "code",
      "source": [
        "class(mixed_vector)"
      ],
      "metadata": {
        "colab": {
          "base_uri": "https://localhost:8080/",
          "height": 34
        },
        "id": "22B9QSkVMEk4",
        "outputId": "e272840e-553e-4b80-993c-f59b9af1d144"
      },
      "execution_count": null,
      "outputs": [
        {
          "output_type": "display_data",
          "data": {
            "text/html": [
              "'character'"
            ],
            "text/markdown": "'character'",
            "text/latex": "'character'",
            "text/plain": [
              "[1] \"character\""
            ]
          },
          "metadata": {}
        }
      ]
    },
    {
      "cell_type": "markdown",
      "source": [
        "Use the `%in%` operator to check for membership."
      ],
      "metadata": {
        "id": "csCGYCHvlNyX"
      }
    },
    {
      "cell_type": "code",
      "source": [
        "\"Valjean\" %in% surnames"
      ],
      "metadata": {
        "colab": {
          "base_uri": "https://localhost:8080/",
          "height": 34
        },
        "id": "3GO6sMS0MGmg",
        "outputId": "585b0f98-b892-4d9e-f40f-84ec3f309465"
      },
      "execution_count": null,
      "outputs": [
        {
          "output_type": "display_data",
          "data": {
            "text/html": [
              "TRUE"
            ],
            "text/markdown": "TRUE",
            "text/latex": "TRUE",
            "text/plain": [
              "[1] TRUE"
            ]
          },
          "metadata": {}
        }
      ]
    },
    {
      "cell_type": "code",
      "source": [
        "\"Hugo\" %in% surnames"
      ],
      "metadata": {
        "colab": {
          "base_uri": "https://localhost:8080/",
          "height": 34
        },
        "id": "2mA9IMaiMbG8",
        "outputId": "f3e95c57-b9e0-4f20-cc93-34f37cef269c"
      },
      "execution_count": null,
      "outputs": [
        {
          "output_type": "display_data",
          "data": {
            "text/html": [
              "FALSE"
            ],
            "text/markdown": "FALSE",
            "text/latex": "FALSE",
            "text/plain": [
              "[1] FALSE"
            ]
          },
          "metadata": {}
        }
      ]
    },
    {
      "cell_type": "markdown",
      "source": [
        "You also have the `sum` function in R and it works exactly like in Python."
      ],
      "metadata": {
        "id": "hM5wA3eZlRtr"
      }
    },
    {
      "cell_type": "code",
      "source": [
        "sum(ages)"
      ],
      "metadata": {
        "colab": {
          "base_uri": "https://localhost:8080/",
          "height": 34
        },
        "id": "0wg_CGcaMdRC",
        "outputId": "8d89c319-a2f1-4a87-cc24-4e6702c85ed5"
      },
      "execution_count": null,
      "outputs": [
        {
          "output_type": "display_data",
          "data": {
            "text/html": [
              "166"
            ],
            "text/markdown": "166",
            "text/latex": "166",
            "text/plain": [
              "[1] 166"
            ]
          },
          "metadata": {}
        }
      ]
    },
    {
      "cell_type": "markdown",
      "source": [
        "## Filtering a vector"
      ],
      "metadata": {
        "id": "-6_OgK8RMrzn"
      }
    },
    {
      "cell_type": "code",
      "source": [
        "ages[ages < 50]"
      ],
      "metadata": {
        "colab": {
          "base_uri": "https://localhost:8080/",
          "height": 34
        },
        "id": "1VWduBS7MgzY",
        "outputId": "c373608b-e008-4867-bf06-1c580af3e41f"
      },
      "execution_count": null,
      "outputs": [
        {
          "output_type": "display_data",
          "data": {
            "text/html": [
              "<style>\n",
              ".list-inline {list-style: none; margin:0; padding: 0}\n",
              ".list-inline>li {display: inline-block}\n",
              ".list-inline>li:not(:last-child)::after {content: \"\\00b7\"; padding: 0 .5ex}\n",
              "</style>\n",
              "<ol class=list-inline><li>40</li><li>38</li><li>26</li></ol>\n"
            ],
            "text/markdown": "1. 40\n2. 38\n3. 26\n\n\n",
            "text/latex": "\\begin{enumerate*}\n\\item 40\n\\item 38\n\\item 26\n\\end{enumerate*}\n",
            "text/plain": [
              "[1] 40 38 26"
            ]
          },
          "metadata": {}
        }
      ]
    },
    {
      "cell_type": "markdown",
      "source": [
        "Filtering a vector of strings is harder. One way of doing it is by using the `grepl` function."
      ],
      "metadata": {
        "id": "HzZTXsFRNLSb"
      }
    },
    {
      "cell_type": "code",
      "source": [
        "surnames[grepl(\"J\", surnames)]"
      ],
      "metadata": {
        "colab": {
          "base_uri": "https://localhost:8080/",
          "height": 34
        },
        "id": "RUqu_nmzMxSf",
        "outputId": "1fc42221-a52f-43e4-cc93-2ad3472bdc65"
      },
      "execution_count": null,
      "outputs": [
        {
          "output_type": "display_data",
          "data": {
            "text/html": [
              "'Javert'"
            ],
            "text/markdown": "'Javert'",
            "text/latex": "'Javert'",
            "text/plain": [
              "[1] \"Javert\""
            ]
          },
          "metadata": {}
        }
      ]
    },
    {
      "cell_type": "code",
      "source": [
        "surnames[grepl(\"j\", surnames)]"
      ],
      "metadata": {
        "colab": {
          "base_uri": "https://localhost:8080/",
          "height": 34
        },
        "id": "oC-1fsp6NUKe",
        "outputId": "cbf0d540-88cd-4768-c58a-135e3ffe9196"
      },
      "execution_count": null,
      "outputs": [
        {
          "output_type": "display_data",
          "data": {
            "text/html": [
              "'Valjean'"
            ],
            "text/markdown": "'Valjean'",
            "text/latex": "'Valjean'",
            "text/plain": [
              "[1] \"Valjean\""
            ]
          },
          "metadata": {}
        }
      ]
    },
    {
      "cell_type": "markdown",
      "source": [
        "Exercise: filter surnames that contain either *j* or *J*."
      ],
      "metadata": {
        "id": "zefAlE3JNZZO"
      }
    },
    {
      "cell_type": "code",
      "source": [
        "surnames[grepl(\"J\", surnames, ignore.case = TRUE)]"
      ],
      "metadata": {
        "colab": {
          "base_uri": "https://localhost:8080/",
          "height": 34
        },
        "id": "xnW4SYy3NYuz",
        "outputId": "4081815c-af57-4b9f-9d13-ec8eeb6dca59"
      },
      "execution_count": null,
      "outputs": [
        {
          "output_type": "display_data",
          "data": {
            "text/html": [
              "<style>\n",
              ".list-inline {list-style: none; margin:0; padding: 0}\n",
              ".list-inline>li {display: inline-block}\n",
              ".list-inline>li:not(:last-child)::after {content: \"\\00b7\"; padding: 0 .5ex}\n",
              "</style>\n",
              "<ol class=list-inline><li>'Valjean'</li><li>'Javert'</li></ol>\n"
            ],
            "text/markdown": "1. 'Valjean'\n2. 'Javert'\n\n\n",
            "text/latex": "\\begin{enumerate*}\n\\item 'Valjean'\n\\item 'Javert'\n\\end{enumerate*}\n",
            "text/plain": [
              "[1] \"Valjean\" \"Javert\" "
            ]
          },
          "metadata": {}
        }
      ]
    },
    {
      "cell_type": "markdown",
      "source": [
        "## Transforming a vector"
      ],
      "metadata": {
        "id": "v33Joe-MNr2g"
      }
    },
    {
      "cell_type": "code",
      "source": [
        "ages ^ 2"
      ],
      "metadata": {
        "colab": {
          "base_uri": "https://localhost:8080/",
          "height": 34
        },
        "id": "jLX7ML-oNWzQ",
        "outputId": "31b5a37e-2c60-46d4-e477-743e8e13b215"
      },
      "execution_count": null,
      "outputs": [
        {
          "output_type": "display_data",
          "data": {
            "text/html": [
              "<style>\n",
              ".list-inline {list-style: none; margin:0; padding: 0}\n",
              ".list-inline>li {display: inline-block}\n",
              ".list-inline>li:not(:last-child)::after {content: \"\\00b7\"; padding: 0 .5ex}\n",
              "</style>\n",
              "<ol class=list-inline><li>1600</li><li>1444</li><li>3844</li><li>676</li></ol>\n"
            ],
            "text/markdown": "1. 1600\n2. 1444\n3. 3844\n4. 676\n\n\n",
            "text/latex": "\\begin{enumerate*}\n\\item 1600\n\\item 1444\n\\item 3844\n\\item 676\n\\end{enumerate*}\n",
            "text/plain": [
              "[1] 1600 1444 3844  676"
            ]
          },
          "metadata": {}
        }
      ]
    },
    {
      "cell_type": "code",
      "source": [
        "ages[ages < 50] ^ 2"
      ],
      "metadata": {
        "colab": {
          "base_uri": "https://localhost:8080/",
          "height": 34
        },
        "id": "IN_g6oO7Nt0z",
        "outputId": "eeca4987-fc33-4acd-d9bb-2ecc2dd55576"
      },
      "execution_count": null,
      "outputs": [
        {
          "output_type": "display_data",
          "data": {
            "text/html": [
              "<style>\n",
              ".list-inline {list-style: none; margin:0; padding: 0}\n",
              ".list-inline>li {display: inline-block}\n",
              ".list-inline>li:not(:last-child)::after {content: \"\\00b7\"; padding: 0 .5ex}\n",
              "</style>\n",
              "<ol class=list-inline><li>1600</li><li>1444</li><li>676</li></ol>\n"
            ],
            "text/markdown": "1. 1600\n2. 1444\n3. 676\n\n\n",
            "text/latex": "\\begin{enumerate*}\n\\item 1600\n\\item 1444\n\\item 676\n\\end{enumerate*}\n",
            "text/plain": [
              "[1] 1600 1444  676"
            ]
          },
          "metadata": {}
        }
      ]
    },
    {
      "cell_type": "markdown",
      "source": [
        "## Iterating over vectors: for loops"
      ],
      "metadata": {
        "id": "J3_cbTDVOHNv"
      }
    },
    {
      "cell_type": "markdown",
      "source": [
        "You will frequently see the `cat` function used to print. (Although what the function does is actually concatenating things.)\n",
        "\n",
        "The named parameter `sep = \"\\n\"` means: \"use a new line as the separator\"."
      ],
      "metadata": {
        "id": "tI2mdX8wls_P"
      }
    },
    {
      "cell_type": "code",
      "source": [
        "for(surname in surnames) {\n",
        "  cat(glue(\"Hello, Mr. {surname}!\"), sep = \"\\n\")\n",
        "}"
      ],
      "metadata": {
        "colab": {
          "base_uri": "https://localhost:8080/"
        },
        "id": "2wdkvyoGNyTn",
        "outputId": "4cd2016f-61ce-468f-aa85-da4af6fc9d18"
      },
      "execution_count": null,
      "outputs": [
        {
          "output_type": "stream",
          "name": "stdout",
          "text": [
            "Hello, Mr. Valjean!\n",
            "Hello, Mr. Javert!\n",
            "Hello, Mr. Myriel!\n",
            "Hello, Mr. Pontmercy!\n"
          ]
        }
      ]
    },
    {
      "cell_type": "markdown",
      "source": [
        "R does not have an analog of Python's `zip`. We have a couple of different options to achieve the same result. The first one is perhaps conceptually simpler and involves using the vector's indices (if we are sure both vectors have the same length)."
      ],
      "metadata": {
        "id": "b99BI8uYOyj5"
      }
    },
    {
      "cell_type": "code",
      "source": [
        "for(idx in seq_along(surnames)) {\n",
        "  cat(sprintf(\"Mr. %s is %d years old.\", surnames[idx], ages[idx]), sep = \"\\n\")\n",
        "}"
      ],
      "metadata": {
        "colab": {
          "base_uri": "https://localhost:8080/"
        },
        "id": "b1bMp2JvN9r9",
        "outputId": "a6bfd8ee-bfab-4279-fd5b-9216b9f4ecff"
      },
      "execution_count": null,
      "outputs": [
        {
          "output_type": "stream",
          "name": "stdout",
          "text": [
            "Mr. Valjean is 40 years old.\n",
            "Mr. Javert is 38 years old.\n",
            "Mr. Myriel is 62 years old.\n",
            "Mr. Pontmercy is 26 years old.\n"
          ]
        }
      ]
    },
    {
      "cell_type": "markdown",
      "source": [
        "Remark:\n",
        "\n",
        "\n",
        "*   We access the element at index `idx` of, e.g., vector `surnames` with the syntax `surnames[idx]`.\n",
        "*   We use `seq_along` to obtain a sequence of valid indices for a given vector.\n",
        "*   We cannot use `glue` with the `surnames[idx]` syntax. In this example, we instead use `sprintf` to print and `cat` to concatenate and print.\n",
        "\n"
      ],
      "metadata": {
        "id": "BnjDAjNBPcGs"
      }
    },
    {
      "cell_type": "markdown",
      "source": [
        "The next one is the more idiomatic `R` way: using vectorised functions. In our case, we use the vectorised `sprintf`."
      ],
      "metadata": {
        "id": "iBq-1Kw3Qfyd"
      }
    },
    {
      "cell_type": "code",
      "source": [
        "cat(sprintf(\"Mr. %s is %d years old.\", surnames, ages), sep = \"\\n\")"
      ],
      "metadata": {
        "colab": {
          "base_uri": "https://localhost:8080/"
        },
        "id": "wQ0SPpdCQmH0",
        "outputId": "d687ab88-ca15-4ac4-8a25-25dca27b57ee"
      },
      "execution_count": null,
      "outputs": [
        {
          "output_type": "stream",
          "name": "stdout",
          "text": [
            "Mr. Valjean is 40 years old.\n",
            "Mr. Javert is 38 years old.\n",
            "Mr. Myriel is 62 years old.\n",
            "Mr. Pontmercy is 26 years old.\n"
          ]
        }
      ]
    },
    {
      "cell_type": "markdown",
      "source": [
        "A similar version uses `paste` instead of `sprintf`. The `paste` function is simpler, but it offers fewer ways of customising the output. In our case, we can use either."
      ],
      "metadata": {
        "id": "garbL6o6RYWL"
      }
    },
    {
      "cell_type": "code",
      "source": [
        "cat(paste(\"Mr.\", surnames, \"is\", ages, \"years old.\"), sep = \"\\n\")"
      ],
      "metadata": {
        "colab": {
          "base_uri": "https://localhost:8080/"
        },
        "id": "Ia7y2D8DQp2c",
        "outputId": "d4eff2d4-6721-461f-f2c9-f2edd85cfb08"
      },
      "execution_count": null,
      "outputs": [
        {
          "output_type": "stream",
          "name": "stdout",
          "text": [
            "Mr. Valjean is 40 years old.\n",
            "Mr. Javert is 38 years old.\n",
            "Mr. Myriel is 62 years old.\n",
            "Mr. Pontmercy is 26 years old.\n"
          ]
        }
      ]
    },
    {
      "cell_type": "markdown",
      "source": [
        "### Iterating over a sorted vector"
      ],
      "metadata": {
        "id": "AcyE82iER2OY"
      }
    },
    {
      "cell_type": "code",
      "source": [
        "for(age in sort(ages)) {\n",
        "  cat(sprintf(\"%d \", age))\n",
        "}"
      ],
      "metadata": {
        "colab": {
          "base_uri": "https://localhost:8080/"
        },
        "id": "pTR1NIB9RL8T",
        "outputId": "9d6c78a6-3b3f-40b6-f34b-b7f3ec472b9b"
      },
      "execution_count": null,
      "outputs": [
        {
          "output_type": "stream",
          "name": "stdout",
          "text": [
            "26 38 40 62 "
          ]
        }
      ]
    },
    {
      "cell_type": "code",
      "source": [
        "for(age in sort(ages, decreasing = TRUE)) {\n",
        "  cat(sprintf(\"%d \", age))\n",
        "}"
      ],
      "metadata": {
        "colab": {
          "base_uri": "https://localhost:8080/"
        },
        "id": "gCSjlRUwRzNn",
        "outputId": "e875766e-58b1-4f09-c7ef-d2f1e1333f80"
      },
      "execution_count": null,
      "outputs": [
        {
          "output_type": "stream",
          "name": "stdout",
          "text": [
            "62 40 38 26 "
          ]
        }
      ]
    },
    {
      "cell_type": "markdown",
      "source": [
        "Use `order` instead of `sort` to obtain the order of the indices that would sort the vector."
      ],
      "metadata": {
        "id": "NXCr9ALeSpg2"
      }
    },
    {
      "cell_type": "code",
      "source": [
        "order(ages)"
      ],
      "metadata": {
        "colab": {
          "base_uri": "https://localhost:8080/",
          "height": 34
        },
        "id": "hdQm5eTpSCsb",
        "outputId": "d46c5624-e294-409c-94e3-2878f8eb7c97"
      },
      "execution_count": null,
      "outputs": [
        {
          "output_type": "display_data",
          "data": {
            "text/html": [
              "<style>\n",
              ".list-inline {list-style: none; margin:0; padding: 0}\n",
              ".list-inline>li {display: inline-block}\n",
              ".list-inline>li:not(:last-child)::after {content: \"\\00b7\"; padding: 0 .5ex}\n",
              "</style>\n",
              "<ol class=list-inline><li>4</li><li>2</li><li>1</li><li>3</li></ol>\n"
            ],
            "text/markdown": "1. 4\n2. 2\n3. 1\n4. 3\n\n\n",
            "text/latex": "\\begin{enumerate*}\n\\item 4\n\\item 2\n\\item 1\n\\item 3\n\\end{enumerate*}\n",
            "text/plain": [
              "[1] 4 2 1 3"
            ]
          },
          "metadata": {}
        }
      ]
    },
    {
      "cell_type": "markdown",
      "source": [
        "Exercise: print surnames and ages in pairs, but the loop should go through the pairs in ascending order of age."
      ],
      "metadata": {
        "id": "F9GdOYRESt63"
      }
    },
    {
      "cell_type": "code",
      "source": [
        "ord = order(ages)\n",
        "cat(paste(\"Mr.\", surnames[ord], \"is\", ages[ord], \"years old.\"), sep = \"\\n\")"
      ],
      "metadata": {
        "colab": {
          "base_uri": "https://localhost:8080/"
        },
        "id": "6fJDb2amSnOO",
        "outputId": "02a169af-5652-4584-f0cc-d593ff456c3e"
      },
      "execution_count": null,
      "outputs": [
        {
          "output_type": "stream",
          "name": "stdout",
          "text": [
            "Mr. Pontmercy is 26 years old.\n",
            "Mr. Javert is 38 years old.\n",
            "Mr. Valjean is 40 years old.\n",
            "Mr. Myriel is 62 years old.\n"
          ]
        }
      ]
    },
    {
      "cell_type": "markdown",
      "source": [
        "The vector of indices can be used inside the square brackets to reorder the elements of the vectors."
      ],
      "metadata": {
        "id": "sfF5PMVjTGsR"
      }
    },
    {
      "cell_type": "markdown",
      "source": [
        "# A new data structure: a list\n",
        "\n",
        "R calls a \"list\" what Python calls a \"dictionary\"!"
      ],
      "metadata": {
        "id": "t8-6Y3fYTOCT"
      }
    },
    {
      "cell_type": "code",
      "source": [
        "character_age = list('Valjean' = 40, 'Javert' = 38, 'Myriel' = 62)"
      ],
      "metadata": {
        "id": "530Ol0a5TDi9"
      },
      "execution_count": null,
      "outputs": []
    },
    {
      "cell_type": "code",
      "source": [
        "character_age"
      ],
      "metadata": {
        "colab": {
          "base_uri": "https://localhost:8080/",
          "height": 149
        },
        "id": "Www1YrN-TWf-",
        "outputId": "74214353-bcd9-4016-cde7-abee213d6777"
      },
      "execution_count": null,
      "outputs": [
        {
          "output_type": "display_data",
          "data": {
            "text/html": [
              "<dl>\n",
              "\t<dt>$Valjean</dt>\n",
              "\t\t<dd>40</dd>\n",
              "\t<dt>$Javert</dt>\n",
              "\t\t<dd>38</dd>\n",
              "\t<dt>$Myriel</dt>\n",
              "\t\t<dd>62</dd>\n",
              "</dl>\n"
            ],
            "text/markdown": "$Valjean\n:   40\n$Javert\n:   38\n$Myriel\n:   62\n\n\n",
            "text/latex": "\\begin{description}\n\\item[\\$Valjean] 40\n\\item[\\$Javert] 38\n\\item[\\$Myriel] 62\n\\end{description}\n",
            "text/plain": [
              "$Valjean\n",
              "[1] 40\n",
              "\n",
              "$Javert\n",
              "[1] 38\n",
              "\n",
              "$Myriel\n",
              "[1] 62\n"
            ]
          },
          "metadata": {}
        }
      ]
    },
    {
      "cell_type": "code",
      "source": [
        "character_age['Valjean']"
      ],
      "metadata": {
        "colab": {
          "base_uri": "https://localhost:8080/",
          "height": 34
        },
        "id": "yogfkEddTbNQ",
        "outputId": "20de7586-1e80-4ed9-a4a2-106c40110a9a"
      },
      "execution_count": null,
      "outputs": [
        {
          "output_type": "display_data",
          "data": {
            "text/html": [
              "<strong>$Valjean</strong> = 40"
            ],
            "text/markdown": "**$Valjean** = 40",
            "text/latex": "\\textbf{\\$Valjean} = 40",
            "text/plain": [
              "$Valjean\n",
              "[1] 40\n"
            ]
          },
          "metadata": {}
        }
      ]
    },
    {
      "cell_type": "markdown",
      "source": [
        "You can add new elements to a list exactly as you would add new elements to a Python's dictionary."
      ],
      "metadata": {
        "id": "P4pxKy57moex"
      }
    },
    {
      "cell_type": "code",
      "source": [
        "character_age['Pontmercy'] = 26"
      ],
      "metadata": {
        "id": "dGIBE98HTetf"
      },
      "execution_count": null,
      "outputs": []
    },
    {
      "cell_type": "code",
      "source": [
        "character_age"
      ],
      "metadata": {
        "colab": {
          "base_uri": "https://localhost:8080/",
          "height": 184
        },
        "id": "33V_-vbNTiUJ",
        "outputId": "58bf453c-6387-4947-a172-94e726eaa348"
      },
      "execution_count": null,
      "outputs": [
        {
          "output_type": "display_data",
          "data": {
            "text/html": [
              "<dl>\n",
              "\t<dt>$Valjean</dt>\n",
              "\t\t<dd>40</dd>\n",
              "\t<dt>$Javert</dt>\n",
              "\t\t<dd>38</dd>\n",
              "\t<dt>$Myriel</dt>\n",
              "\t\t<dd>62</dd>\n",
              "\t<dt>$Pontmercy</dt>\n",
              "\t\t<dd>26</dd>\n",
              "</dl>\n"
            ],
            "text/markdown": "$Valjean\n:   40\n$Javert\n:   38\n$Myriel\n:   62\n$Pontmercy\n:   26\n\n\n",
            "text/latex": "\\begin{description}\n\\item[\\$Valjean] 40\n\\item[\\$Javert] 38\n\\item[\\$Myriel] 62\n\\item[\\$Pontmercy] 26\n\\end{description}\n",
            "text/plain": [
              "$Valjean\n",
              "[1] 40\n",
              "\n",
              "$Javert\n",
              "[1] 38\n",
              "\n",
              "$Myriel\n",
              "[1] 62\n",
              "\n",
              "$Pontmercy\n",
              "[1] 26\n"
            ]
          },
          "metadata": {}
        }
      ]
    },
    {
      "cell_type": "markdown",
      "source": [
        "By default, looping through a Python's dictionary with a `for` loop yields the keys. In R, it yields the values.\n",
        "\n",
        "Btw, Python's keys are called *names* in R."
      ],
      "metadata": {
        "id": "rWhrgSPjTqWJ"
      }
    },
    {
      "cell_type": "code",
      "source": [
        "for(x in character_age) {\n",
        "  cat(x, sep = \"\\n\")\n",
        "}"
      ],
      "metadata": {
        "colab": {
          "base_uri": "https://localhost:8080/"
        },
        "id": "_Vwhk1r1TjRR",
        "outputId": "f7a568ff-36d3-423b-e581-eacb66b63d0e"
      },
      "execution_count": null,
      "outputs": [
        {
          "output_type": "stream",
          "name": "stdout",
          "text": [
            "40\n",
            "38\n",
            "62\n",
            "26\n"
          ]
        }
      ]
    },
    {
      "cell_type": "markdown",
      "source": [
        "Use the `names` function to obtain the vector of names."
      ],
      "metadata": {
        "id": "DJfkMblymzBx"
      }
    },
    {
      "cell_type": "code",
      "source": [
        "names(character_age)"
      ],
      "metadata": {
        "colab": {
          "base_uri": "https://localhost:8080/",
          "height": 34
        },
        "id": "FabAr-1ATnUh",
        "outputId": "e7115ab0-da84-4fb7-cd7b-3974998f09c9"
      },
      "execution_count": null,
      "outputs": [
        {
          "output_type": "display_data",
          "data": {
            "text/html": [
              "<style>\n",
              ".list-inline {list-style: none; margin:0; padding: 0}\n",
              ".list-inline>li {display: inline-block}\n",
              ".list-inline>li:not(:last-child)::after {content: \"\\00b7\"; padding: 0 .5ex}\n",
              "</style>\n",
              "<ol class=list-inline><li>'Valjean'</li><li>'Javert'</li><li>'Myriel'</li><li>'Pontmercy'</li></ol>\n"
            ],
            "text/markdown": "1. 'Valjean'\n2. 'Javert'\n3. 'Myriel'\n4. 'Pontmercy'\n\n\n",
            "text/latex": "\\begin{enumerate*}\n\\item 'Valjean'\n\\item 'Javert'\n\\item 'Myriel'\n\\item 'Pontmercy'\n\\end{enumerate*}\n",
            "text/plain": [
              "[1] \"Valjean\"   \"Javert\"    \"Myriel\"    \"Pontmercy\""
            ]
          },
          "metadata": {}
        }
      ]
    },
    {
      "cell_type": "markdown",
      "source": [
        "You can use the `unlist` function to obtain the vector of values."
      ],
      "metadata": {
        "id": "ZU4WI9Ytm3kI"
      }
    },
    {
      "cell_type": "code",
      "source": [
        "unlist(character_age, use.names = FALSE)"
      ],
      "metadata": {
        "colab": {
          "base_uri": "https://localhost:8080/",
          "height": 34
        },
        "id": "0vCVhv83UMFN",
        "outputId": "22bb1791-86f0-4c5e-a0cb-e6b46dfb6992"
      },
      "execution_count": null,
      "outputs": [
        {
          "output_type": "display_data",
          "data": {
            "text/html": [
              "<style>\n",
              ".list-inline {list-style: none; margin:0; padding: 0}\n",
              ".list-inline>li {display: inline-block}\n",
              ".list-inline>li:not(:last-child)::after {content: \"\\00b7\"; padding: 0 .5ex}\n",
              "</style>\n",
              "<ol class=list-inline><li>40</li><li>38</li><li>62</li><li>26</li></ol>\n"
            ],
            "text/markdown": "1. 40\n2. 38\n3. 62\n4. 26\n\n\n",
            "text/latex": "\\begin{enumerate*}\n\\item 40\n\\item 38\n\\item 62\n\\item 26\n\\end{enumerate*}\n",
            "text/plain": [
              "[1] 40 38 62 26"
            ]
          },
          "metadata": {}
        }
      ]
    },
    {
      "cell_type": "markdown",
      "source": [
        "Use `names` and `unlist` to achieve the same result as Python's `.items()`, i.e., accessing each name-value pair. This works well with vectorised functions."
      ],
      "metadata": {
        "id": "rx6zE-3SnJDI"
      }
    },
    {
      "cell_type": "code",
      "source": [
        "cat(paste(\"Mr.\", names(character_age), \"is\", unlist(character_age), \"years old.\"), sep = \"\\n\")"
      ],
      "metadata": {
        "colab": {
          "base_uri": "https://localhost:8080/"
        },
        "id": "miuj-6hlUNek",
        "outputId": "7786179a-dfaa-4298-8636-ba9aed837de2"
      },
      "execution_count": null,
      "outputs": [
        {
          "output_type": "stream",
          "name": "stdout",
          "text": [
            "Mr. Valjean is 40 years old.\n",
            "Mr. Javert is 38 years old.\n",
            "Mr. Myriel is 62 years old.\n",
            "Mr. Pontmercy is 26 years old.\n"
          ]
        }
      ]
    },
    {
      "cell_type": "markdown",
      "source": [
        "## Filtering a list"
      ],
      "metadata": {
        "id": "mZ1wcwP7Unlm"
      }
    },
    {
      "cell_type": "code",
      "source": [
        "young = character_age[unlist(character_age) < 30]"
      ],
      "metadata": {
        "id": "fE-JBfVEUZIy"
      },
      "execution_count": null,
      "outputs": []
    },
    {
      "cell_type": "code",
      "source": [
        "young"
      ],
      "metadata": {
        "colab": {
          "base_uri": "https://localhost:8080/",
          "height": 34
        },
        "id": "3V7a0E4bUvmw",
        "outputId": "bcc219d1-5abb-4e67-9501-f04e9c8a5759"
      },
      "execution_count": null,
      "outputs": [
        {
          "output_type": "display_data",
          "data": {
            "text/html": [
              "<strong>$Pontmercy</strong> = 26"
            ],
            "text/markdown": "**$Pontmercy** = 26",
            "text/latex": "\\textbf{\\$Pontmercy} = 26",
            "text/plain": [
              "$Pontmercy\n",
              "[1] 26\n"
            ]
          },
          "metadata": {}
        }
      ]
    },
    {
      "cell_type": "code",
      "source": [
        "has_j = character_age[grepl(\"J\", names(character_age), ignore.case = TRUE)]"
      ],
      "metadata": {
        "id": "w4S5qsueUv-L"
      },
      "execution_count": null,
      "outputs": []
    },
    {
      "cell_type": "code",
      "source": [
        "has_j"
      ],
      "metadata": {
        "colab": {
          "base_uri": "https://localhost:8080/",
          "height": 114
        },
        "id": "OQacVrDnVG0s",
        "outputId": "25d9e43d-860d-4345-c7d7-323eb16e08ec"
      },
      "execution_count": null,
      "outputs": [
        {
          "output_type": "display_data",
          "data": {
            "text/html": [
              "<dl>\n",
              "\t<dt>$Valjean</dt>\n",
              "\t\t<dd>40</dd>\n",
              "\t<dt>$Javert</dt>\n",
              "\t\t<dd>38</dd>\n",
              "</dl>\n"
            ],
            "text/markdown": "$Valjean\n:   40\n$Javert\n:   38\n\n\n",
            "text/latex": "\\begin{description}\n\\item[\\$Valjean] 40\n\\item[\\$Javert] 38\n\\end{description}\n",
            "text/plain": [
              "$Valjean\n",
              "[1] 40\n",
              "\n",
              "$Javert\n",
              "[1] 38\n"
            ]
          },
          "metadata": {}
        }
      ]
    },
    {
      "cell_type": "markdown",
      "source": [
        "# Functions"
      ],
      "metadata": {
        "id": "Dg3kVZxwVLgl"
      }
    },
    {
      "cell_type": "code",
      "source": [
        "after_taxes = function(profit, tax_rate) {\n",
        "  profit * (1 - tax_rate)\n",
        "}"
      ],
      "metadata": {
        "id": "Pp4hbbJeVHc9"
      },
      "execution_count": null,
      "outputs": []
    },
    {
      "cell_type": "code",
      "source": [
        "after_taxes(profit = 100000, tax_rate = 0.15)"
      ],
      "metadata": {
        "colab": {
          "base_uri": "https://localhost:8080/",
          "height": 34
        },
        "id": "Aps_s5BvVQYu",
        "outputId": "3b7239db-d6a0-4352-e2ed-4a33cd9347eb"
      },
      "execution_count": null,
      "outputs": [
        {
          "output_type": "display_data",
          "data": {
            "text/html": [
              "85000"
            ],
            "text/markdown": "85000",
            "text/latex": "85000",
            "text/plain": [
              "[1] 85000"
            ]
          },
          "metadata": {}
        }
      ]
    },
    {
      "cell_type": "markdown",
      "source": [
        "Remark: our function is automatically vectorised."
      ],
      "metadata": {
        "id": "prh696yNnfXg"
      }
    },
    {
      "cell_type": "code",
      "source": [
        "after_taxes(profit = c(100000, 80000), tax_rate = 0.15)"
      ],
      "metadata": {
        "colab": {
          "base_uri": "https://localhost:8080/",
          "height": 34
        },
        "id": "ZxHpCjfOVXvr",
        "outputId": "55532c53-7766-4177-ceb5-afabf919a1a1"
      },
      "execution_count": null,
      "outputs": [
        {
          "output_type": "display_data",
          "data": {
            "text/html": [
              "<style>\n",
              ".list-inline {list-style: none; margin:0; padding: 0}\n",
              ".list-inline>li {display: inline-block}\n",
              ".list-inline>li:not(:last-child)::after {content: \"\\00b7\"; padding: 0 .5ex}\n",
              "</style>\n",
              "<ol class=list-inline><li>85000</li><li>68000</li></ol>\n"
            ],
            "text/markdown": "1. 85000\n2. 68000\n\n\n",
            "text/latex": "\\begin{enumerate*}\n\\item 85000\n\\item 68000\n\\end{enumerate*}\n",
            "text/plain": [
              "[1] 85000 68000"
            ]
          },
          "metadata": {}
        }
      ]
    },
    {
      "cell_type": "markdown",
      "source": [
        "We can specify default parameters values."
      ],
      "metadata": {
        "id": "y6Ib5JCjWK4x"
      }
    },
    {
      "cell_type": "code",
      "source": [
        "after_taxes = function(profit, tax_rate = 0.15) {\n",
        "  profit * (1 - tax_rate)\n",
        "}"
      ],
      "metadata": {
        "id": "63udDpiJWWwh"
      },
      "execution_count": null,
      "outputs": []
    },
    {
      "cell_type": "code",
      "source": [
        "after_taxes(profit = 100000)"
      ],
      "metadata": {
        "colab": {
          "base_uri": "https://localhost:8080/",
          "height": 34
        },
        "id": "bNiezYicp2Tf",
        "outputId": "9667d4a1-bdb0-4e26-a3eb-ff538002bdd6"
      },
      "execution_count": null,
      "outputs": [
        {
          "output_type": "display_data",
          "data": {
            "text/html": [
              "85000"
            ],
            "text/markdown": "85000",
            "text/latex": "85000",
            "text/plain": [
              "[1] 85000"
            ]
          },
          "metadata": {}
        }
      ]
    },
    {
      "cell_type": "markdown",
      "source": [
        "We can handle the negative profits case..."
      ],
      "metadata": {
        "id": "8DWyzRtQnqNA"
      }
    },
    {
      "cell_type": "code",
      "source": [
        "# Seems ok... (but)\n",
        "\n",
        "after_taxes = function(profit, tax_rate = 0.15) {\n",
        "  if(profit > 0) {\n",
        "    profit * (1 - tax_rate)\n",
        "  } else {\n",
        "    profit\n",
        "  }\n",
        "}"
      ],
      "metadata": {
        "id": "elcHvDbZp5YT"
      },
      "execution_count": null,
      "outputs": []
    },
    {
      "cell_type": "code",
      "source": [
        "after_taxes(profit = -20000)"
      ],
      "metadata": {
        "colab": {
          "base_uri": "https://localhost:8080/",
          "height": 34
        },
        "id": "T3thpsdEqImE",
        "outputId": "236ffbb9-ac18-48ea-913e-dd54eba8a57f"
      },
      "execution_count": null,
      "outputs": [
        {
          "output_type": "display_data",
          "data": {
            "text/html": [
              "-20000"
            ],
            "text/markdown": "-20000",
            "text/latex": "-20000",
            "text/plain": [
              "[1] -20000"
            ]
          },
          "metadata": {}
        }
      ]
    },
    {
      "cell_type": "markdown",
      "source": [
        "However, adding an `if` statement causes the function to not be vectorised any longer."
      ],
      "metadata": {
        "id": "X4EOx4H5nwM1"
      }
    },
    {
      "cell_type": "code",
      "source": [
        "after_taxes(profit = c(100000, -20000))"
      ],
      "metadata": {
        "colab": {
          "base_uri": "https://localhost:8080/",
          "height": 313
        },
        "id": "RBGh0AcoqOiD",
        "outputId": "c77d68f8-dbef-440e-a1b2-9b0f44c49a7e"
      },
      "execution_count": null,
      "outputs": [
        {
          "output_type": "error",
          "ename": "ERROR",
          "evalue": "Error in if (profit > 0) {: the condition has length > 1\n",
          "traceback": [
            "Error in if (profit > 0) {: the condition has length > 1\nTraceback:\n",
            "1. .handleSimpleError(function (cnd) \n . {\n .     watcher$capture_plot_and_output()\n .     cnd <- sanitize_call(cnd)\n .     watcher$push(cnd)\n .     switch(on_error, continue = invokeRestart(\"eval_continue\"), \n .         stop = invokeRestart(\"eval_stop\"), error = NULL)\n . }, \"the condition has length > 1\", base::quote(if (profit > 0) {\n .     profit * (1 - tax_rate)\n . } else {\n .     profit\n . }))"
          ]
        }
      ]
    },
    {
      "cell_type": "markdown",
      "source": [
        "The following function is vectorised."
      ],
      "metadata": {
        "id": "5hFOdEQxn-TL"
      }
    },
    {
      "cell_type": "code",
      "source": [
        "# Slightly better\n",
        "\n",
        "after_taxes = function(profit, tax_rate = 0.15) {\n",
        "  profit[profit > 0] = profit[profit > 0] * (1 - tax_rate)\n",
        "  profit\n",
        "}"
      ],
      "metadata": {
        "id": "fdfBrZMsqm1Q"
      },
      "execution_count": null,
      "outputs": []
    },
    {
      "cell_type": "code",
      "source": [
        "after_taxes(profit = c(100000, -20000))"
      ],
      "metadata": {
        "colab": {
          "base_uri": "https://localhost:8080/",
          "height": 34
        },
        "id": "Sjbkf6Zfqzhh",
        "outputId": "c6061899-4257-4a59-ba83-6b15503f696a"
      },
      "execution_count": null,
      "outputs": [
        {
          "output_type": "display_data",
          "data": {
            "text/html": [
              "<style>\n",
              ".list-inline {list-style: none; margin:0; padding: 0}\n",
              ".list-inline>li {display: inline-block}\n",
              ".list-inline>li:not(:last-child)::after {content: \"\\00b7\"; padding: 0 .5ex}\n",
              "</style>\n",
              "<ol class=list-inline><li>85000</li><li>-20000</li></ol>\n"
            ],
            "text/markdown": "1. 85000\n2. -20000\n\n\n",
            "text/latex": "\\begin{enumerate*}\n\\item 85000\n\\item -20000\n\\end{enumerate*}\n",
            "text/plain": [
              "[1]  85000 -20000"
            ]
          },
          "metadata": {}
        }
      ]
    },
    {
      "cell_type": "markdown",
      "source": [
        "And the following one is both vectorised and more \"idiomatic\"."
      ],
      "metadata": {
        "id": "Jj3nX7C0oDUB"
      }
    },
    {
      "cell_type": "code",
      "source": [
        "# More idiomatic\n",
        "\n",
        "after_taxes = function(profit, tax_rate = 0.15) {\n",
        "  ifelse(profit > 0, profit * (1 - tax_rate), profit)\n",
        "}"
      ],
      "metadata": {
        "id": "PTSfcJ7Eq04e"
      },
      "execution_count": null,
      "outputs": []
    },
    {
      "cell_type": "code",
      "source": [
        "after_taxes(profit = c(100000, -20000))"
      ],
      "metadata": {
        "colab": {
          "base_uri": "https://localhost:8080/",
          "height": 34
        },
        "id": "aFXuBgtfrNRp",
        "outputId": "d68c3616-ad43-4b5c-f02b-3c53f7f292ed"
      },
      "execution_count": null,
      "outputs": [
        {
          "output_type": "display_data",
          "data": {
            "text/html": [
              "<style>\n",
              ".list-inline {list-style: none; margin:0; padding: 0}\n",
              ".list-inline>li {display: inline-block}\n",
              ".list-inline>li:not(:last-child)::after {content: \"\\00b7\"; padding: 0 .5ex}\n",
              "</style>\n",
              "<ol class=list-inline><li>85000</li><li>-20000</li></ol>\n"
            ],
            "text/markdown": "1. 85000\n2. -20000\n\n\n",
            "text/latex": "\\begin{enumerate*}\n\\item 85000\n\\item -20000\n\\end{enumerate*}\n",
            "text/plain": [
              "[1]  85000 -20000"
            ]
          },
          "metadata": {}
        }
      ]
    },
    {
      "cell_type": "code",
      "source": [
        "# Or using a math trick...\n",
        "\n",
        "after_taxes = function(profit, tax_rate = 0.15) {\n",
        "  profit - pmax(profit, 0) * tax_rate\n",
        "}"
      ],
      "metadata": {
        "id": "_sssb-SnrOQI"
      },
      "execution_count": null,
      "outputs": []
    },
    {
      "cell_type": "code",
      "source": [
        "after_taxes(profit = c(100000, -20000))"
      ],
      "metadata": {
        "colab": {
          "base_uri": "https://localhost:8080/",
          "height": 34
        },
        "id": "lRXTG2kyrXaS",
        "outputId": "140fc534-3fe7-4c75-d69b-a4aa9fb6abb1"
      },
      "execution_count": null,
      "outputs": [
        {
          "output_type": "display_data",
          "data": {
            "text/html": [
              "<style>\n",
              ".list-inline {list-style: none; margin:0; padding: 0}\n",
              ".list-inline>li {display: inline-block}\n",
              ".list-inline>li:not(:last-child)::after {content: \"\\00b7\"; padding: 0 .5ex}\n",
              "</style>\n",
              "<ol class=list-inline><li>85000</li><li>-20000</li></ol>\n"
            ],
            "text/markdown": "1. 85000\n2. -20000\n\n\n",
            "text/latex": "\\begin{enumerate*}\n\\item 85000\n\\item -20000\n\\end{enumerate*}\n",
            "text/plain": [
              "[1]  85000 -20000"
            ]
          },
          "metadata": {}
        }
      ]
    },
    {
      "cell_type": "markdown",
      "source": [
        "Remark: we can pass different tax rates for the different profits."
      ],
      "metadata": {
        "id": "BY0a_VQHpaq7"
      }
    },
    {
      "cell_type": "code",
      "source": [
        "after_taxes(profit = c(100000, 50000), tax_rate = c(0.1, 0.05))"
      ],
      "metadata": {
        "colab": {
          "base_uri": "https://localhost:8080/",
          "height": 34
        },
        "id": "QW30vV5opSJf",
        "outputId": "59bd04ad-3b21-4dff-eafe-10923ad1b0bc"
      },
      "execution_count": null,
      "outputs": [
        {
          "output_type": "display_data",
          "data": {
            "text/html": [
              "<style>\n",
              ".list-inline {list-style: none; margin:0; padding: 0}\n",
              ".list-inline>li {display: inline-block}\n",
              ".list-inline>li:not(:last-child)::after {content: \"\\00b7\"; padding: 0 .5ex}\n",
              "</style>\n",
              "<ol class=list-inline><li>90000</li><li>47500</li></ol>\n"
            ],
            "text/markdown": "1. 90000\n2. 47500\n\n\n",
            "text/latex": "\\begin{enumerate*}\n\\item 90000\n\\item 47500\n\\end{enumerate*}\n",
            "text/plain": [
              "[1] 90000 47500"
            ]
          },
          "metadata": {}
        }
      ]
    },
    {
      "cell_type": "markdown",
      "source": [
        "Finally, we impose the constraint that the tax rate must be between 0 and 1."
      ],
      "metadata": {
        "id": "rRHQQ7AcoNh6"
      }
    },
    {
      "cell_type": "code",
      "source": [
        "# Okay (but...)\n",
        "\n",
        "after_taxes = function(profit, tax_rate = 0.15) {\n",
        "  if(tax_rate < 0 || tax_rate > 1) {\n",
        "    stop(\"The tax rate must be between 0 and 1.\")\n",
        "  }\n",
        "\n",
        "  ifelse(profit > 0, profit * (1 - tax_rate), profit)\n",
        "}"
      ],
      "metadata": {
        "id": "o1dGVNh_rYym"
      },
      "execution_count": null,
      "outputs": []
    },
    {
      "cell_type": "code",
      "source": [
        "after_taxes(profit = 100000, tax_rate = -0.5)"
      ],
      "metadata": {
        "colab": {
          "base_uri": "https://localhost:8080/",
          "height": 276
        },
        "id": "oPHoC6ywrtIe",
        "outputId": "cad8ac1a-8f48-45d1-8448-7deaa8a6c4c4"
      },
      "execution_count": null,
      "outputs": [
        {
          "output_type": "error",
          "ename": "ERROR",
          "evalue": "Error in after_taxes(profit = 1e+05, tax_rate = -0.5): The tax rate must be between 0 and 1.\n",
          "traceback": [
            "Error in after_taxes(profit = 1e+05, tax_rate = -0.5): The tax rate must be between 0 and 1.\nTraceback:\n",
            "1. stop(\"The tax rate must be between 0 and 1.\")",
            "2. .handleSimpleError(function (cnd) \n . {\n .     watcher$capture_plot_and_output()\n .     cnd <- sanitize_call(cnd)\n .     watcher$push(cnd)\n .     switch(on_error, continue = invokeRestart(\"eval_continue\"), \n .         stop = invokeRestart(\"eval_stop\"), error = NULL)\n . }, \"The tax rate must be between 0 and 1.\", base::quote(after_taxes(profit = 1e+05, \n .     tax_rate = -0.5)))"
          ]
        }
      ]
    },
    {
      "cell_type": "markdown",
      "source": [
        "However, this function cannot handle vector `tax_rate` parameters."
      ],
      "metadata": {
        "id": "GeuGkph2pi7B"
      }
    },
    {
      "cell_type": "code",
      "source": [
        "after_taxes(profit = c(100000, 50000), tax_rate = c(0.1, 0.05))"
      ],
      "metadata": {
        "colab": {
          "base_uri": "https://localhost:8080/",
          "height": 257
        },
        "id": "fWMnHIGZpOsI",
        "outputId": "7412b88d-e4e9-4a31-8205-39a1907b28a8"
      },
      "execution_count": null,
      "outputs": [
        {
          "output_type": "error",
          "ename": "ERROR",
          "evalue": "Error in tax_rate < 0 || tax_rate > 1: 'length = 2' in coercion to 'logical(1)'\n",
          "traceback": [
            "Error in tax_rate < 0 || tax_rate > 1: 'length = 2' in coercion to 'logical(1)'\nTraceback:\n",
            "1. .handleSimpleError(function (cnd) \n . {\n .     watcher$capture_plot_and_output()\n .     cnd <- sanitize_call(cnd)\n .     watcher$push(cnd)\n .     switch(on_error, continue = invokeRestart(\"eval_continue\"), \n .         stop = invokeRestart(\"eval_stop\"), error = NULL)\n . }, \"'length = 2' in coercion to 'logical(1)'\", base::quote(tax_rate < \n .     0 || tax_rate > 1))"
          ]
        }
      ]
    },
    {
      "cell_type": "markdown",
      "source": [
        "Let's fix it by using vectorised functions only."
      ],
      "metadata": {
        "id": "hkjoaXX3p5ke"
      }
    },
    {
      "cell_type": "code",
      "source": [
        "# Better!\n",
        "\n",
        "after_taxes = function(profit, tax_rate = 0.15) {\n",
        "  if(any(tax_rate < 0) || any(tax_rate > 1)) {\n",
        "    stop(\"All tax rates must be between 0 and 1.\")\n",
        "  }\n",
        "\n",
        "  ifelse(profit > 0, profit * (1 - tax_rate), profit)\n",
        "}"
      ],
      "metadata": {
        "id": "7UMUMhczohEu"
      },
      "execution_count": null,
      "outputs": []
    },
    {
      "cell_type": "code",
      "source": [
        "after_taxes(profit = c(100000, 50000), tax_rate = c(0.1, 0.05))"
      ],
      "metadata": {
        "colab": {
          "base_uri": "https://localhost:8080/",
          "height": 34
        },
        "id": "zPcCj7ido8gK",
        "outputId": "1a537cb7-1803-496a-fb53-ffb93901889f"
      },
      "execution_count": null,
      "outputs": [
        {
          "output_type": "display_data",
          "data": {
            "text/html": [
              "<style>\n",
              ".list-inline {list-style: none; margin:0; padding: 0}\n",
              ".list-inline>li {display: inline-block}\n",
              ".list-inline>li:not(:last-child)::after {content: \"\\00b7\"; padding: 0 .5ex}\n",
              "</style>\n",
              "<ol class=list-inline><li>90000</li><li>47500</li></ol>\n"
            ],
            "text/markdown": "1. 90000\n2. 47500\n\n\n",
            "text/latex": "\\begin{enumerate*}\n\\item 90000\n\\item 47500\n\\end{enumerate*}\n",
            "text/plain": [
              "[1] 90000 47500"
            ]
          },
          "metadata": {}
        }
      ]
    },
    {
      "cell_type": "code",
      "source": [
        "after_taxes(profit = c(100000, 50000), tax_rate = c(0.1, -0.05))"
      ],
      "metadata": {
        "colab": {
          "base_uri": "https://localhost:8080/",
          "height": 276
        },
        "id": "mOGIirJbpu8h",
        "outputId": "f2104da1-03db-4c58-f946-c50f0569eeeb"
      },
      "execution_count": null,
      "outputs": [
        {
          "output_type": "error",
          "ename": "ERROR",
          "evalue": "Error in after_taxes(profit = c(1e+05, 50000), tax_rate = c(0.1, -0.05)): All tax rates must be between 0 and 1.\n",
          "traceback": [
            "Error in after_taxes(profit = c(1e+05, 50000), tax_rate = c(0.1, -0.05)): All tax rates must be between 0 and 1.\nTraceback:\n",
            "1. stop(\"All tax rates must be between 0 and 1.\")",
            "2. .handleSimpleError(function (cnd) \n . {\n .     watcher$capture_plot_and_output()\n .     cnd <- sanitize_call(cnd)\n .     watcher$push(cnd)\n .     switch(on_error, continue = invokeRestart(\"eval_continue\"), \n .         stop = invokeRestart(\"eval_stop\"), error = NULL)\n . }, \"All tax rates must be between 0 and 1.\", base::quote(after_taxes(profit = c(1e+05, \n .     50000), tax_rate = c(0.1, -0.05))))"
          ]
        }
      ]
    }
  ]
}