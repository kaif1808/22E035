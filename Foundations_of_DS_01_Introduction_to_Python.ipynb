{
  "cells": [
    {
      "cell_type": "markdown",
      "id": "f449a0ce",
      "metadata": {
        "id": "f449a0ce"
      },
      "source": [
        "# Introduction to Python\n",
        "\n",
        "## Python and R\n",
        "\n",
        "Source: 2024 StackOverflow developer survey\n",
        "\n",
        "### How popular are Python and R?\n",
        "\n",
        "<img height=\"600px\" src=\"https://drive.usercontent.google.com/download?id=1Nheb2DJzQU9fAFi8aNCAE4sVRTd3AKUH\" />\n",
        "\n",
        "### Which one is \"better\" according to developers?\n",
        "\n",
        "<img height=\"200px\" src=\"https://drive.usercontent.google.com/download?id=1YmfBS2AMN-hndfTjHXlK-3s0MGKbfsx-\" /> <img height=\"200px\" src=\"https://drive.usercontent.google.com/download?id=13bs8OlOze-6tdtonzGBCS3KWepo7fass\" />\n",
        "\n",
        "### Which one is associated with higher salaries?\n",
        "\n",
        "<img height=\"400px\" src=\"https://drive.usercontent.google.com/download?id=1kdU-HQ9KLaTLwcCZljx4nc9nSJIFnFvJ\" />"
      ]
    },
    {
      "cell_type": "markdown",
      "id": "d68fed95",
      "metadata": {
        "id": "d68fed95"
      },
      "source": [
        "# Dealing with numbers"
      ]
    },
    {
      "cell_type": "markdown",
      "id": "K2mEBte8QzmN",
      "metadata": {
        "id": "K2mEBte8QzmN"
      },
      "source": [
        "## Using Python as a calculator\n",
        "\n",
        "All the common mathematical operations are available.\n",
        "Remarks:\n",
        "\n",
        "* Exponentiation is performed with the `**` operator. I.e., $a^b$ is `a ** b`. Contrast this with many other programming languages which use the `^` operator.\n",
        "* The exponent must not be an integer. For example, raising to the power of `0.5` gives you the square root."
      ]
    },
    {
      "cell_type": "code",
      "execution_count": null,
      "id": "c27ca291",
      "metadata": {
        "colab": {
          "base_uri": "https://localhost:8080/"
        },
        "id": "c27ca291",
        "outputId": "ca4c823d-53f5-4000-a0e9-f983c3d01003"
      },
      "outputs": [
        {
          "data": {
            "text/plain": [
              "5"
            ]
          },
          "execution_count": 2,
          "metadata": {},
          "output_type": "execute_result"
        }
      ],
      "source": [
        "3 + 2"
      ]
    },
    {
      "cell_type": "code",
      "execution_count": null,
      "id": "7197ec22",
      "metadata": {
        "colab": {
          "base_uri": "https://localhost:8080/"
        },
        "id": "7197ec22",
        "outputId": "e8a019c2-b93f-4e17-bea1-fb8742244ac9"
      },
      "outputs": [
        {
          "data": {
            "text/plain": [
              "12"
            ]
          },
          "execution_count": 3,
          "metadata": {},
          "output_type": "execute_result"
        }
      ],
      "source": [
        "3 * 4"
      ]
    },
    {
      "cell_type": "code",
      "execution_count": null,
      "id": "40709c11",
      "metadata": {
        "colab": {
          "base_uri": "https://localhost:8080/"
        },
        "id": "40709c11",
        "outputId": "b623c412-44d1-4b4c-f238-bd007107babb"
      },
      "outputs": [
        {
          "data": {
            "text/plain": [
              "1.5"
            ]
          },
          "execution_count": 4,
          "metadata": {},
          "output_type": "execute_result"
        }
      ],
      "source": [
        "3 / 2"
      ]
    },
    {
      "cell_type": "code",
      "execution_count": null,
      "id": "318b28a5",
      "metadata": {
        "colab": {
          "base_uri": "https://localhost:8080/"
        },
        "id": "318b28a5",
        "outputId": "af1fa9c3-a13b-4f15-f248-4a567e5d0a9b"
      },
      "outputs": [
        {
          "data": {
            "text/plain": [
              "9"
            ]
          },
          "execution_count": 5,
          "metadata": {},
          "output_type": "execute_result"
        }
      ],
      "source": [
        "3 ** 2"
      ]
    },
    {
      "cell_type": "code",
      "execution_count": null,
      "id": "493880d1",
      "metadata": {
        "colab": {
          "base_uri": "https://localhost:8080/"
        },
        "id": "493880d1",
        "outputId": "c305cded-1cc4-4a6c-e6b7-47a96282f1d5"
      },
      "outputs": [
        {
          "data": {
            "text/plain": [
              "1.7320508075688772"
            ]
          },
          "execution_count": 6,
          "metadata": {},
          "output_type": "execute_result"
        }
      ],
      "source": [
        "3 ** 0.5"
      ]
    },
    {
      "cell_type": "markdown",
      "id": "6TEG9OPvN1M8",
      "metadata": {
        "id": "6TEG9OPvN1M8"
      },
      "source": [
        "You will rarely use numbers (or other types of data) directly.\n",
        "Rather, you will likely store them in variables and perform operations using these variables.\n",
        "\n",
        "Remark: you can use underscores as thousands separators to improve readability when dealing with large number literals."
      ]
    },
    {
      "cell_type": "code",
      "execution_count": null,
      "id": "8c041701",
      "metadata": {
        "id": "8c041701"
      },
      "outputs": [],
      "source": [
        "revenue = 100_000\n",
        "costs = 40_000\n",
        "profit = revenue - costs"
      ]
    },
    {
      "cell_type": "markdown",
      "id": "JXCqYhR9Otde",
      "metadata": {
        "id": "JXCqYhR9Otde"
      },
      "source": [
        "Remark: the notebook will print the result of the last expression in a cell.\n",
        "Writing the name of a variable by itself is a valid expression.\n",
        "Therefore, it will be evaluated and its result (the value held by the variable) will be printed."
      ]
    },
    {
      "cell_type": "code",
      "execution_count": null,
      "id": "cef9b750",
      "metadata": {
        "colab": {
          "base_uri": "https://localhost:8080/"
        },
        "id": "cef9b750",
        "outputId": "06fe5d06-8b4c-4921-b9fa-b7b09923dda0"
      },
      "outputs": [
        {
          "data": {
            "text/plain": [
              "60000"
            ]
          },
          "execution_count": 8,
          "metadata": {},
          "output_type": "execute_result"
        }
      ],
      "source": [
        "profit"
      ]
    },
    {
      "cell_type": "code",
      "execution_count": null,
      "id": "30651007",
      "metadata": {
        "id": "30651007"
      },
      "outputs": [],
      "source": [
        "tax_rate = 0.15\n",
        "net_profit = profit * (1 - tax_rate)"
      ]
    },
    {
      "cell_type": "code",
      "execution_count": null,
      "id": "cf2c4e39",
      "metadata": {
        "colab": {
          "base_uri": "https://localhost:8080/"
        },
        "id": "cf2c4e39",
        "outputId": "4a598e0e-28eb-46c4-dfe0-51822b53c6b8"
      },
      "outputs": [
        {
          "data": {
            "text/plain": [
              "51000.0"
            ]
          },
          "execution_count": 10,
          "metadata": {},
          "output_type": "execute_result"
        }
      ],
      "source": [
        "net_profit"
      ]
    },
    {
      "cell_type": "markdown",
      "id": "9018a4b5",
      "metadata": {
        "id": "9018a4b5"
      },
      "source": [
        "## Integer vs. floating-point numbers\n",
        "\n",
        "In Python there are two main number types.\n",
        "The first is integer numbers (`int`), and the second is floating-point numbers (`float`).\n",
        "\n",
        "Variables `revenue` and `costs` are integer because we defined them as such.\n",
        "Variable `profit` is also integer because it is the difference of two integer variables.\n",
        "Variable `tax_rate` is a float by definition.\n",
        "Finally, variable `net_profit` is a float (although it contains a whole number) because it is the product of an integer and a floating-point number."
      ]
    },
    {
      "cell_type": "code",
      "execution_count": null,
      "id": "6d0c5e3a",
      "metadata": {
        "colab": {
          "base_uri": "https://localhost:8080/"
        },
        "id": "6d0c5e3a",
        "outputId": "02fb8e3a-94a6-49af-fad0-5ae409024fdd"
      },
      "outputs": [
        {
          "data": {
            "text/plain": [
              "int"
            ]
          },
          "execution_count": 11,
          "metadata": {},
          "output_type": "execute_result"
        }
      ],
      "source": [
        "type(profit)"
      ]
    },
    {
      "cell_type": "code",
      "execution_count": null,
      "id": "f949ab4f",
      "metadata": {
        "colab": {
          "base_uri": "https://localhost:8080/"
        },
        "id": "f949ab4f",
        "outputId": "b26c800c-391b-4cf1-d4d4-1d03120465ae"
      },
      "outputs": [
        {
          "data": {
            "text/plain": [
              "float"
            ]
          },
          "execution_count": 12,
          "metadata": {},
          "output_type": "execute_result"
        }
      ],
      "source": [
        "type(net_profit)"
      ]
    },
    {
      "cell_type": "markdown",
      "id": "qlA79G9lP4c8",
      "metadata": {
        "id": "qlA79G9lP4c8"
      },
      "source": [
        "If you want `net_profit` as an integer number, you have to explicitly convert it using `int()`."
      ]
    },
    {
      "cell_type": "code",
      "execution_count": null,
      "id": "f6479aee",
      "metadata": {
        "colab": {
          "base_uri": "https://localhost:8080/"
        },
        "id": "f6479aee",
        "outputId": "f9e56fc1-3569-4f60-ecff-052f6d0a4b37"
      },
      "outputs": [
        {
          "data": {
            "text/plain": [
              "(51000.0, 51000)"
            ]
          },
          "execution_count": 13,
          "metadata": {},
          "output_type": "execute_result"
        }
      ],
      "source": [
        "net_profit, int(net_profit)"
      ]
    },
    {
      "cell_type": "markdown",
      "id": "a7VG5DqMQWj_",
      "metadata": {
        "id": "a7VG5DqMQWj_"
      },
      "source": [
        "Remark: `int()` always rounds down!"
      ]
    },
    {
      "cell_type": "code",
      "execution_count": null,
      "id": "5c1982a2",
      "metadata": {
        "colab": {
          "base_uri": "https://localhost:8080/"
        },
        "id": "5c1982a2",
        "outputId": "bc737a0c-4a32-4d88-f293-33c6b364bdbf"
      },
      "outputs": [
        {
          "data": {
            "text/plain": [
              "(1, 1, 1)"
            ]
          },
          "execution_count": 14,
          "metadata": {},
          "output_type": "execute_result"
        }
      ],
      "source": [
        "int(1.1), int(1.9), int(1.5)"
      ]
    },
    {
      "cell_type": "markdown",
      "id": "939fe834",
      "metadata": {
        "id": "939fe834"
      },
      "source": [
        "# Dealing with text"
      ]
    },
    {
      "cell_type": "markdown",
      "id": "5218sWw5Q5Nm",
      "metadata": {
        "id": "5218sWw5Q5Nm"
      },
      "source": [
        "## Strings\n",
        "\n",
        "There are three main way of inputting strings in Python: single-quoted strings, double-quoted strings, and f-strings.\n",
        "\n",
        "As the names suggest, single- and double-quoted strings differ by being delimited by single quotes (`'`) and double quotes (`\"`).\n",
        "\n",
        "A single-quoted string can contain double quotes inside it, but eventual single quotes must be escaped with a backslash.\n",
        "Similarly, a double-quoted string can contain single quotes inside it, but eventual double quotes must be escaped with a backslash.\n",
        "\n",
        "For example, `'Is this \"real\" food?!'` is a valid single-quoted string; `\"Is this 'real' food?!\"` is a valid double-quoted string; `\"Is this \\\"real\\\" food?!\"` is also a valid double-quoted string.\n",
        "\n",
        "Finally, f-strings are so called because they are preceded by a literal `f` before the opening (single or double) quote.\n",
        "They are very useful for interpolating variable values within strings.\n",
        "The variables (or, better said, the expressions) are enclosed within curly braces.\n",
        "The expressions are evaluated and the result is converted to a string and inserted in the f-string."
      ]
    },
    {
      "cell_type": "code",
      "execution_count": null,
      "id": "3e000fcb",
      "metadata": {
        "colab": {
          "base_uri": "https://localhost:8080/"
        },
        "id": "3e000fcb",
        "outputId": "56f85ef6-e35e-46b3-f7b2-344a82b4c481"
      },
      "outputs": [
        {
          "name": "stdout",
          "output_type": "stream",
          "text": [
            "Hello, Jean Valjean.\n"
          ]
        }
      ],
      "source": [
        "name = \"Jean\"\n",
        "surname = 'Valjean'\n",
        "\n",
        "print(f\"Hello, {name} {surname}.\")"
      ]
    },
    {
      "cell_type": "code",
      "execution_count": null,
      "id": "dUNSSCDNTSGk",
      "metadata": {
        "colab": {
          "base_uri": "https://localhost:8080/"
        },
        "id": "dUNSSCDNTSGk",
        "outputId": "902a6316-fcfc-41a5-d7f3-261a6bca925c"
      },
      "outputs": [
        {
          "name": "stdout",
          "output_type": "stream",
          "text": [
            "Hello, JEAN VALJEAN.\n"
          ]
        }
      ],
      "source": [
        "print(f\"Hello, {name.upper()} {surname.upper()}.\")"
      ]
    },
    {
      "cell_type": "markdown",
      "id": "fac54dab",
      "metadata": {
        "id": "fac54dab"
      },
      "source": [
        "## Formatting numbers within f-strings\n",
        "\n",
        "You can interpolate numbers within f-strings."
      ]
    },
    {
      "cell_type": "code",
      "execution_count": null,
      "id": "aaf7b4e4",
      "metadata": {
        "colab": {
          "base_uri": "https://localhost:8080/"
        },
        "id": "aaf7b4e4",
        "outputId": "8bc650d7-93d9-4f27-8d07-2a07d1e8af28"
      },
      "outputs": [
        {
          "name": "stdout",
          "output_type": "stream",
          "text": [
            "The net profit is: 51000.0\n"
          ]
        }
      ],
      "source": [
        "print(f\"The net profit is: {net_profit}\")"
      ]
    },
    {
      "cell_type": "markdown",
      "id": "SYhu_tXuUkjH",
      "metadata": {
        "id": "SYhu_tXuUkjH"
      },
      "source": [
        "Furthermore, you can specify [various format specifiers](https://docs.python.org/3/library/string.html#formatspec) to improve how these numbers are shown to the user."
      ]
    },
    {
      "cell_type": "code",
      "execution_count": null,
      "id": "73c7e2d5",
      "metadata": {
        "colab": {
          "base_uri": "https://localhost:8080/"
        },
        "id": "73c7e2d5",
        "outputId": "d4d5dd99-2e2a-4498-c2b5-587d916089dc"
      },
      "outputs": [
        {
          "name": "stdout",
          "output_type": "stream",
          "text": [
            "The net profit is: 51000\n"
          ]
        }
      ],
      "source": [
        "# Use zero decimal digits for floating point numbers\n",
        "print(f\"The net profit is: {net_profit:.0f}\")"
      ]
    },
    {
      "cell_type": "code",
      "execution_count": null,
      "id": "a4113c21",
      "metadata": {
        "colab": {
          "base_uri": "https://localhost:8080/"
        },
        "id": "a4113c21",
        "outputId": "77f94c25-4385-4124-aa8f-1cb2e7f3141c"
      },
      "outputs": [
        {
          "name": "stdout",
          "output_type": "stream",
          "text": [
            "The net profit is: 51,000\n"
          ]
        }
      ],
      "source": [
        "# Additionally, use the thousands separator\n",
        "print(f\"The net profit is: {net_profit:,.0f}\")"
      ]
    },
    {
      "cell_type": "code",
      "execution_count": null,
      "id": "b1e199b7",
      "metadata": {
        "colab": {
          "base_uri": "https://localhost:8080/"
        },
        "id": "b1e199b7",
        "outputId": "5fe7e779-6ff3-4469-c928-83e11959bb81"
      },
      "outputs": [
        {
          "name": "stdout",
          "output_type": "stream",
          "text": [
            "The tax rate is: 0.15\n"
          ]
        }
      ],
      "source": [
        "print(f\"The tax rate is: {tax_rate}\")"
      ]
    },
    {
      "cell_type": "code",
      "execution_count": null,
      "id": "bb96153b",
      "metadata": {
        "colab": {
          "base_uri": "https://localhost:8080/"
        },
        "id": "bb96153b",
        "outputId": "e6d50ab8-4681-415f-d38b-8a602809f437"
      },
      "outputs": [
        {
          "name": "stdout",
          "output_type": "stream",
          "text": [
            "The tax rate is: 15.000000%\n"
          ]
        }
      ],
      "source": [
        "# Format a decimal as a percentage\n",
        "print(f\"The tax rate is: {tax_rate:%}\")"
      ]
    },
    {
      "cell_type": "code",
      "execution_count": null,
      "id": "7cb3145b",
      "metadata": {
        "colab": {
          "base_uri": "https://localhost:8080/"
        },
        "id": "7cb3145b",
        "outputId": "e718a9ca-ab2f-49ea-be16-556da2f521ea"
      },
      "outputs": [
        {
          "name": "stdout",
          "output_type": "stream",
          "text": [
            "The tax rate is: 15%\n"
          ]
        }
      ],
      "source": [
        "# Format as a percentage with zero decimal digits\n",
        "print(f\"The tax rate is: {tax_rate:.0%}\")"
      ]
    },
    {
      "cell_type": "markdown",
      "id": "46e9ff75",
      "metadata": {
        "id": "46e9ff75"
      },
      "source": [
        "# Logical expressions and operators\n",
        "\n",
        "A logical expression is a statement that can be true or false. Logical operators (such as \"and\" and \"or\" in plain English) combine logical expressions into new ones."
      ]
    },
    {
      "cell_type": "code",
      "execution_count": null,
      "id": "ddfe1482",
      "metadata": {
        "colab": {
          "base_uri": "https://localhost:8080/"
        },
        "id": "ddfe1482",
        "outputId": "2abb5c60-938b-49fa-c5f5-c44c7eb9b17f"
      },
      "outputs": [
        {
          "data": {
            "text/plain": [
              "51000.0"
            ]
          },
          "execution_count": 23,
          "metadata": {},
          "output_type": "execute_result"
        }
      ],
      "source": [
        "net_profit"
      ]
    },
    {
      "cell_type": "markdown",
      "id": "vIe3Ik2waVa1",
      "metadata": {
        "id": "vIe3Ik2waVa1"
      },
      "source": [
        "Remark: the most common numerical comparison operators are `>` (strictly larger), `>=` (greater or equal), `<` (strictly smaller), `<=` (less or equal), `==` (equal), `!=` (unequal)."
      ]
    },
    {
      "cell_type": "code",
      "execution_count": null,
      "id": "e7171f14",
      "metadata": {
        "colab": {
          "base_uri": "https://localhost:8080/"
        },
        "id": "e7171f14",
        "outputId": "5da8d863-03e4-4862-8467-99990a240031"
      },
      "outputs": [
        {
          "data": {
            "text/plain": [
              "True"
            ]
          },
          "execution_count": 24,
          "metadata": {},
          "output_type": "execute_result"
        }
      ],
      "source": [
        "# Logical expression: is net_profit strigtly larger than 10,000?\n",
        "net_profit > 10_000"
      ]
    },
    {
      "cell_type": "code",
      "execution_count": null,
      "id": "798c01fe",
      "metadata": {
        "colab": {
          "base_uri": "https://localhost:8080/"
        },
        "id": "798c01fe",
        "outputId": "ea5364c4-9546-40da-b27e-613c02730421"
      },
      "outputs": [
        {
          "data": {
            "text/plain": [
              "False"
            ]
          },
          "execution_count": 25,
          "metadata": {},
          "output_type": "execute_result"
        }
      ],
      "source": [
        "net_profit <= 12_000"
      ]
    },
    {
      "cell_type": "code",
      "execution_count": null,
      "id": "37a4bb53",
      "metadata": {
        "colab": {
          "base_uri": "https://localhost:8080/"
        },
        "id": "37a4bb53",
        "outputId": "597902ea-7cba-46e4-90b0-d255cd75df37"
      },
      "outputs": [
        {
          "data": {
            "text/plain": [
              "True"
            ]
          },
          "execution_count": 26,
          "metadata": {},
          "output_type": "execute_result"
        }
      ],
      "source": [
        "net_profit == 51_000"
      ]
    },
    {
      "cell_type": "markdown",
      "id": "wgo7PPVZa8yH",
      "metadata": {
        "id": "wgo7PPVZa8yH"
      },
      "source": [
        "Python allows chaining comparison operators."
      ]
    },
    {
      "cell_type": "code",
      "execution_count": null,
      "id": "DRHRsOkSa_Ut",
      "metadata": {
        "colab": {
          "base_uri": "https://localhost:8080/"
        },
        "id": "DRHRsOkSa_Ut",
        "outputId": "dfb20264-620b-4692-b657-d9df33bf7c5b"
      },
      "outputs": [
        {
          "data": {
            "text/plain": [
              "False"
            ]
          },
          "execution_count": 27,
          "metadata": {},
          "output_type": "execute_result"
        }
      ],
      "source": [
        "10_000 <= net_profit <= 40_000"
      ]
    },
    {
      "cell_type": "markdown",
      "id": "SaG6CLssaqcq",
      "metadata": {
        "id": "SaG6CLssaqcq"
      },
      "source": [
        "Remark: the most common logical operators are `and`, `or`, and `not`."
      ]
    },
    {
      "cell_type": "code",
      "execution_count": null,
      "id": "c28b7541",
      "metadata": {
        "colab": {
          "base_uri": "https://localhost:8080/"
        },
        "id": "c28b7541",
        "outputId": "b3aaaac8-1256-41ac-eafe-da290c4a5136"
      },
      "outputs": [
        {
          "data": {
            "text/plain": [
              "True"
            ]
          },
          "execution_count": 28,
          "metadata": {},
          "output_type": "execute_result"
        }
      ],
      "source": [
        "net_profit > 40_000 and tax_rate < 0.25"
      ]
    },
    {
      "cell_type": "code",
      "execution_count": null,
      "id": "8f42b5e3",
      "metadata": {
        "colab": {
          "base_uri": "https://localhost:8080/"
        },
        "id": "8f42b5e3",
        "outputId": "398f3660-76e7-4cff-aa2d-f5b85a110cfa"
      },
      "outputs": [
        {
          "data": {
            "text/plain": [
              "False"
            ]
          },
          "execution_count": 29,
          "metadata": {},
          "output_type": "execute_result"
        }
      ],
      "source": [
        "net_profit <= 10_000 or tax_rate >= 0.3"
      ]
    },
    {
      "cell_type": "markdown",
      "id": "edd8f71d",
      "metadata": {
        "id": "edd8f71d"
      },
      "source": [
        "# The first data structure: lists\n",
        "\n",
        "Lists are sequences of elements accessed by index.\n",
        "The indices start from 0 (indicating the first element of the list), and proceed sequentially with 1 (the second element), 2 (the third element), etc."
      ]
    },
    {
      "cell_type": "code",
      "execution_count": null,
      "id": "f3277527",
      "metadata": {
        "id": "f3277527"
      },
      "outputs": [],
      "source": [
        "surnames = ['Valjean', 'Javert', 'Myriel']\n",
        "ages = [40, 38, 62]"
      ]
    },
    {
      "cell_type": "code",
      "execution_count": null,
      "id": "aa2e604e",
      "metadata": {
        "colab": {
          "base_uri": "https://localhost:8080/"
        },
        "id": "aa2e604e",
        "outputId": "4b0936c5-e8d4-4dd3-95d7-a27525c9add7"
      },
      "outputs": [
        {
          "data": {
            "text/plain": [
              "['Valjean', 'Javert', 'Myriel']"
            ]
          },
          "execution_count": 31,
          "metadata": {},
          "output_type": "execute_result"
        }
      ],
      "source": [
        "surnames"
      ]
    },
    {
      "cell_type": "code",
      "execution_count": null,
      "id": "30a6fae8",
      "metadata": {
        "colab": {
          "base_uri": "https://localhost:8080/"
        },
        "id": "30a6fae8",
        "outputId": "44bf2d7d-b7c2-41c0-b71c-404b7f2f420b"
      },
      "outputs": [
        {
          "data": {
            "text/plain": [
              "[40, 38, 62]"
            ]
          },
          "execution_count": 32,
          "metadata": {},
          "output_type": "execute_result"
        }
      ],
      "source": [
        "ages"
      ]
    },
    {
      "cell_type": "markdown",
      "id": "3EuRWp3GbTQF",
      "metadata": {
        "id": "3EuRWp3GbTQF"
      },
      "source": [
        "You can add new elements at the end of a list with the `append` method."
      ]
    },
    {
      "cell_type": "code",
      "execution_count": null,
      "id": "ac74379a",
      "metadata": {
        "id": "ac74379a"
      },
      "outputs": [],
      "source": [
        "surnames.append('Pontmercy')"
      ]
    },
    {
      "cell_type": "code",
      "execution_count": null,
      "id": "03585355",
      "metadata": {
        "colab": {
          "base_uri": "https://localhost:8080/"
        },
        "id": "03585355",
        "outputId": "0f7ba5e1-feff-43f0-9ed8-8d3c9ed42b0c"
      },
      "outputs": [
        {
          "data": {
            "text/plain": [
              "['Valjean', 'Javert', 'Myriel', 'Pontmercy']"
            ]
          },
          "execution_count": 34,
          "metadata": {},
          "output_type": "execute_result"
        }
      ],
      "source": [
        "surnames"
      ]
    },
    {
      "cell_type": "code",
      "execution_count": null,
      "id": "dc48cf8c",
      "metadata": {
        "id": "dc48cf8c"
      },
      "outputs": [],
      "source": [
        "ages.append(26)"
      ]
    },
    {
      "cell_type": "code",
      "execution_count": null,
      "id": "b1925ca8",
      "metadata": {
        "colab": {
          "base_uri": "https://localhost:8080/"
        },
        "id": "b1925ca8",
        "outputId": "a7da8cf0-1339-41c9-f36c-d7ea8079eb87"
      },
      "outputs": [
        {
          "data": {
            "text/plain": [
              "[40, 38, 62, 26]"
            ]
          },
          "execution_count": 36,
          "metadata": {},
          "output_type": "execute_result"
        }
      ],
      "source": [
        "ages"
      ]
    },
    {
      "cell_type": "markdown",
      "id": "gAxGQ6WmbX13",
      "metadata": {
        "id": "gAxGQ6WmbX13"
      },
      "source": [
        "The elements of a list must not necessarily be all of the same type. Python allows mixed lists."
      ]
    },
    {
      "cell_type": "code",
      "execution_count": null,
      "id": "e42c37f7",
      "metadata": {
        "id": "e42c37f7"
      },
      "outputs": [],
      "source": [
        "mixed_list = ['Barcelona', 24, True, 5.6]"
      ]
    },
    {
      "cell_type": "code",
      "execution_count": null,
      "id": "297a459a",
      "metadata": {
        "colab": {
          "base_uri": "https://localhost:8080/"
        },
        "id": "297a459a",
        "outputId": "79b2fcfb-5174-4cfe-e134-e788fc4c13d4"
      },
      "outputs": [
        {
          "data": {
            "text/plain": [
              "['Barcelona', 24, True, 5.6]"
            ]
          },
          "execution_count": 38,
          "metadata": {},
          "output_type": "execute_result"
        }
      ],
      "source": [
        "mixed_list"
      ]
    },
    {
      "cell_type": "markdown",
      "id": "QfKI90_ybdRg",
      "metadata": {
        "id": "QfKI90_ybdRg"
      },
      "source": [
        "To check whether a list contains an element you can use the `in` operator."
      ]
    },
    {
      "cell_type": "code",
      "execution_count": null,
      "id": "2479f585",
      "metadata": {
        "colab": {
          "base_uri": "https://localhost:8080/"
        },
        "id": "2479f585",
        "outputId": "dced97d5-82b1-4f9f-c6c0-54fbab44ea45"
      },
      "outputs": [
        {
          "data": {
            "text/plain": [
              "True"
            ]
          },
          "execution_count": 39,
          "metadata": {},
          "output_type": "execute_result"
        }
      ],
      "source": [
        "'Valjean' in surnames"
      ]
    },
    {
      "cell_type": "code",
      "execution_count": null,
      "id": "f5fb86d6",
      "metadata": {
        "colab": {
          "base_uri": "https://localhost:8080/"
        },
        "id": "f5fb86d6",
        "outputId": "afa58b24-3c7e-4051-d1c4-4d71db5ae3df"
      },
      "outputs": [
        {
          "data": {
            "text/plain": [
              "False"
            ]
          },
          "execution_count": 40,
          "metadata": {},
          "output_type": "execute_result"
        }
      ],
      "source": [
        "'Hugo' in surnames"
      ]
    },
    {
      "cell_type": "markdown",
      "id": "80hesRGkbmCu",
      "metadata": {
        "id": "80hesRGkbmCu"
      },
      "source": [
        "A common operation on numeric lists is computing their sum. This can be achieved with the `sum()` function."
      ]
    },
    {
      "cell_type": "code",
      "execution_count": null,
      "id": "63a6be94",
      "metadata": {
        "colab": {
          "base_uri": "https://localhost:8080/"
        },
        "id": "63a6be94",
        "outputId": "109e6982-977c-4248-9ced-852cb46aebf1"
      },
      "outputs": [
        {
          "data": {
            "text/plain": [
              "166"
            ]
          },
          "execution_count": 41,
          "metadata": {},
          "output_type": "execute_result"
        }
      ],
      "source": [
        "sum(ages)"
      ]
    },
    {
      "cell_type": "markdown",
      "id": "6fff3c21",
      "metadata": {
        "id": "6fff3c21"
      },
      "source": [
        "## List comprehension: filtering\n",
        "\n",
        "List comprehension is a way to transform a given list into a new list by applying some transformation.\n",
        "The first transformation we see is *filtering*, i.e., keeping the elements that satisfy a condition and discarding the others.\n",
        "\n",
        "Remark: you can check if a string contains a character (or a substring) using the `in` operator, e.g., `'a' in 'abc'` will evaluate to `True`, and `'a' in 'def'` will evaluate to `False`."
      ]
    },
    {
      "cell_type": "code",
      "execution_count": null,
      "id": "99ca30f6",
      "metadata": {
        "colab": {
          "base_uri": "https://localhost:8080/"
        },
        "id": "99ca30f6",
        "outputId": "42880a99-c4c0-470a-dfef-5aaec5b63583"
      },
      "outputs": [
        {
          "data": {
            "text/plain": [
              "['Javert']"
            ]
          },
          "execution_count": 42,
          "metadata": {},
          "output_type": "execute_result"
        }
      ],
      "source": [
        "[surname for surname in surnames if 'J' in surname]"
      ]
    },
    {
      "cell_type": "code",
      "execution_count": null,
      "id": "cc57e67f",
      "metadata": {
        "colab": {
          "base_uri": "https://localhost:8080/"
        },
        "id": "cc57e67f",
        "outputId": "23a2af77-0c3d-4016-e287-6603010efc3a"
      },
      "outputs": [
        {
          "data": {
            "text/plain": [
              "['Valjean']"
            ]
          },
          "execution_count": 43,
          "metadata": {},
          "output_type": "execute_result"
        }
      ],
      "source": [
        "[surname for surname in surnames if 'j' in surname]"
      ]
    },
    {
      "cell_type": "markdown",
      "id": "aaaf6d26",
      "metadata": {
        "id": "aaaf6d26"
      },
      "source": [
        "Exercise: filter surnames that contain either *j* or *J*."
      ]
    },
    {
      "cell_type": "code",
      "execution_count": null,
      "id": "a1ddcfd5",
      "metadata": {
        "colab": {
          "base_uri": "https://localhost:8080/"
        },
        "id": "a1ddcfd5",
        "outputId": "2c7b7af9-da58-43ed-ef5b-66a8bffa2e26"
      },
      "outputs": [
        {
          "data": {
            "text/plain": [
              "['Valjean', 'Javert']"
            ]
          },
          "execution_count": 44,
          "metadata": {},
          "output_type": "execute_result"
        }
      ],
      "source": [
        "solution_1 = [surname for surname in surnames if 'j' in surname or 'J' in surname]\n",
        "solution_1"
      ]
    },
    {
      "cell_type": "code",
      "execution_count": null,
      "id": "08699163",
      "metadata": {
        "colab": {
          "base_uri": "https://localhost:8080/"
        },
        "id": "08699163",
        "outputId": "8d92afdf-481e-4aad-fdbf-6cf1ed405e15"
      },
      "outputs": [
        {
          "data": {
            "text/plain": [
              "['Valjean', 'Javert']"
            ]
          },
          "execution_count": 45,
          "metadata": {},
          "output_type": "execute_result"
        }
      ],
      "source": [
        "solution_2 = [surname for surname in surnames if 'j' in surname.lower()]\n",
        "solution_2"
      ]
    },
    {
      "cell_type": "code",
      "execution_count": null,
      "id": "79717972",
      "metadata": {
        "colab": {
          "base_uri": "https://localhost:8080/"
        },
        "id": "79717972",
        "outputId": "7d84fe25-af71-4e26-8a45-2a449c8a7e44"
      },
      "outputs": [
        {
          "data": {
            "text/plain": [
              "['Valjean', 'Javert']"
            ]
          },
          "execution_count": 46,
          "metadata": {},
          "output_type": "execute_result"
        }
      ],
      "source": [
        "# Bonus. There really are MANY way of accomplishing the same thing in Python.\n",
        "list(filter(lambda s: 'j' in s.lower(), surnames))\n",
        "# Etc. etc."
      ]
    },
    {
      "cell_type": "markdown",
      "id": "fde41b58",
      "metadata": {
        "id": "fde41b58"
      },
      "source": [
        "## List comprehension: transforming each element\n",
        "\n",
        "The second task often accomplished via list comprehension is transforming, i.e., applying a transformation to each element of an existing list and obtaining a new list with the transformed elements."
      ]
    },
    {
      "cell_type": "code",
      "execution_count": null,
      "id": "179fd934",
      "metadata": {
        "colab": {
          "base_uri": "https://localhost:8080/"
        },
        "id": "179fd934",
        "outputId": "4c36df70-3f0f-4ae6-92c2-e5550741ddf4"
      },
      "outputs": [
        {
          "data": {
            "text/plain": [
              "[1600, 1444, 3844, 676]"
            ]
          },
          "execution_count": 47,
          "metadata": {},
          "output_type": "execute_result"
        }
      ],
      "source": [
        "# Square each element of the ages list\n",
        "[age ** 2 for age in ages]"
      ]
    },
    {
      "cell_type": "code",
      "execution_count": null,
      "id": "0cff0f29",
      "metadata": {
        "colab": {
          "base_uri": "https://localhost:8080/"
        },
        "id": "0cff0f29",
        "outputId": "89be6cb7-24be-43f4-99b0-d5efd2300857"
      },
      "outputs": [
        {
          "data": {
            "text/plain": [
              "['valjean', 'javert', 'myriel', 'pontmercy']"
            ]
          },
          "execution_count": 48,
          "metadata": {},
          "output_type": "execute_result"
        }
      ],
      "source": [
        "# Put each surname in lower case\n",
        "[surname.lower() for surname in surnames]"
      ]
    },
    {
      "cell_type": "markdown",
      "id": "8c0ef7e8",
      "metadata": {
        "id": "8c0ef7e8"
      },
      "source": [
        "## List comprehension: filtering and transforming\n",
        "\n",
        "We can also combine filtering and transforming in one single list comprehension that does both."
      ]
    },
    {
      "cell_type": "code",
      "execution_count": null,
      "id": "a9d4c9a4",
      "metadata": {
        "colab": {
          "base_uri": "https://localhost:8080/"
        },
        "id": "a9d4c9a4",
        "outputId": "4cfa4f78-0743-40a0-82cd-f3aec1c85a0a"
      },
      "outputs": [
        {
          "data": {
            "text/plain": [
              "[1600, 1444, 676]"
            ]
          },
          "execution_count": 49,
          "metadata": {},
          "output_type": "execute_result"
        }
      ],
      "source": [
        "[age ** 2 for age in ages if age < 50]"
      ]
    },
    {
      "cell_type": "markdown",
      "id": "94bc769f",
      "metadata": {
        "id": "94bc769f"
      },
      "source": [
        "## Iterating over a list: a first introduction to for loops\n",
        "\n",
        "The general form of a `for` loop is:\n",
        "\n",
        "```\n",
        "for <name> in <iterable>:\n",
        "    expressions using <name>\n",
        "```\n",
        "\n",
        "We use a `for` loop to go through each element of a list and then do something with it.\n",
        "In a sense, a `for` loop is similar to list comprehension. However, unlike using list comprehension, the \"result\" of a for loop applied to a list is not necessarily another list.\n",
        "In the following example, we use a `for` loop to simply print the elements of a list in a fancy way.\n",
        "We can loop on other things that are not list; that's why in the above pseudo-code, I used the more general name \"iterable\".\n",
        "For the moment, we only see how to loop over a list.\n",
        "\n",
        "Note that we need a way to refer to each element of the list when we want to perform some operation on it.\n",
        "Therefore, we define a name (`<name>` in the pseudocode) to refer to a generic list element.\n",
        "\n",
        "Remark: Python uses indentation to specify where the \"main body\" of the `for` loop (i.e., the part that actually does something with the list elements) starts and ends."
      ]
    },
    {
      "cell_type": "code",
      "execution_count": null,
      "id": "a79ac57b",
      "metadata": {
        "colab": {
          "base_uri": "https://localhost:8080/"
        },
        "id": "a79ac57b",
        "outputId": "2848a3ba-8120-450c-de56-3ad9027532ab"
      },
      "outputs": [
        {
          "name": "stdout",
          "output_type": "stream",
          "text": [
            "Hello, Mr. Valjean!\n",
            "Hello, Mr. Javert!\n",
            "Hello, Mr. Myriel!\n",
            "Hello, Mr. Pontmercy!\n"
          ]
        }
      ],
      "source": [
        "for surname in surnames:\n",
        "    print(f\"Hello, Mr. {surname}!\")"
      ]
    },
    {
      "cell_type": "markdown",
      "id": "w3RAwTJFqeA2",
      "metadata": {
        "id": "w3RAwTJFqeA2"
      },
      "source": [
        "## Enumerating a list\n",
        "\n",
        "If, in a `for` loop, we want to access both the elements of the list and their indices, we can use the `enumerate()` function."
      ]
    },
    {
      "cell_type": "code",
      "execution_count": null,
      "id": "2HHZsapZqb3S",
      "metadata": {
        "colab": {
          "base_uri": "https://localhost:8080/"
        },
        "id": "2HHZsapZqb3S",
        "outputId": "4c62c7de-bc1e-48b0-c27b-957f53c3e780"
      },
      "outputs": [
        {
          "name": "stdout",
          "output_type": "stream",
          "text": [
            "The surname at index 0 is Valjean.\n",
            "The surname at index 1 is Javert.\n",
            "The surname at index 2 is Myriel.\n",
            "The surname at index 3 is Pontmercy.\n"
          ]
        }
      ],
      "source": [
        "for idx, surname in enumerate(surnames):\n",
        "  print(f\"The surname at index {idx} is {surname}.\")"
      ]
    },
    {
      "cell_type": "markdown",
      "id": "c65425f1",
      "metadata": {
        "id": "c65425f1"
      },
      "source": [
        "## Zipping lists\n",
        "\n",
        "Zipping two (or more!) lists refers to simultaneously accessing the elements of the lists that have the same index.\n",
        "For example, given the `surnames` and `ages` list, we might imagin that there is a correspondence between them.\n",
        "In other words, the age at index `0` in the `ages` list refers to the person whose surname is at index `0` in the `surnames` list, etc."
      ]
    },
    {
      "cell_type": "code",
      "execution_count": null,
      "id": "35524d58",
      "metadata": {
        "colab": {
          "base_uri": "https://localhost:8080/"
        },
        "id": "35524d58",
        "outputId": "9f67c3ef-624f-4010-b2e4-6043b8c69759"
      },
      "outputs": [
        {
          "name": "stdout",
          "output_type": "stream",
          "text": [
            "Mr. Valjean is 40 years old.\n",
            "Mr. Javert is 38 years old.\n",
            "Mr. Myriel is 62 years old.\n",
            "Mr. Pontmercy is 26 years old.\n"
          ]
        }
      ],
      "source": [
        "for surname, age in zip(surnames, ages):\n",
        "    print(f\"Mr. {surname} is {age} years old.\")"
      ]
    },
    {
      "cell_type": "markdown",
      "id": "6ec28e80",
      "metadata": {
        "id": "6ec28e80"
      },
      "source": [
        "## Iterating over a sorted list\n",
        "\n",
        "We can obtain a sorted view of a list with the `sorted()` function.\n",
        "This function does not change the list in-place, it just returns a way to access the list in sorted order."
      ]
    },
    {
      "cell_type": "code",
      "execution_count": null,
      "id": "38d7ead4",
      "metadata": {
        "colab": {
          "base_uri": "https://localhost:8080/"
        },
        "id": "38d7ead4",
        "outputId": "89411b68-9dc6-4ea3-edff-5105e8ef277d"
      },
      "outputs": [
        {
          "name": "stdout",
          "output_type": "stream",
          "text": [
            "26 38 40 62 "
          ]
        }
      ],
      "source": [
        "for age in sorted(ages):\n",
        "    print(age, end=' ')"
      ]
    },
    {
      "cell_type": "markdown",
      "id": "mQqCSYz0rTpb",
      "metadata": {
        "id": "mQqCSYz0rTpb"
      },
      "source": [
        "By default, `sorted()` sorts in ascending order.\n",
        "If we want to sort in descending order we have two options.\n",
        "\n",
        "First, we can combine the `sorted()` function with the `reversed()` function.\n",
        "By reversing the ascending order we obtain the descending one.\n",
        "\n",
        "Second, we can apss the named parameter `reverse=True` to the `sorting()` function."
      ]
    },
    {
      "cell_type": "code",
      "execution_count": null,
      "id": "c017cbf9",
      "metadata": {
        "colab": {
          "base_uri": "https://localhost:8080/"
        },
        "id": "c017cbf9",
        "outputId": "1df65752-2bbf-4597-cce1-caff30070092"
      },
      "outputs": [
        {
          "name": "stdout",
          "output_type": "stream",
          "text": [
            "62 40 38 26 "
          ]
        }
      ],
      "source": [
        "for age in reversed(sorted(ages)):\n",
        "    print(age, end=' ')"
      ]
    },
    {
      "cell_type": "code",
      "execution_count": null,
      "id": "29566c71",
      "metadata": {
        "colab": {
          "base_uri": "https://localhost:8080/"
        },
        "id": "29566c71",
        "outputId": "dfedebf3-aa10-46ce-cf21-cbe4ab99058a"
      },
      "outputs": [
        {
          "name": "stdout",
          "output_type": "stream",
          "text": [
            "62 40 38 26 "
          ]
        }
      ],
      "source": [
        "for age in sorted(ages, reverse=True):\n",
        "    print(age, end=' ')"
      ]
    },
    {
      "cell_type": "markdown",
      "id": "f13bfd8e",
      "metadata": {
        "id": "f13bfd8e"
      },
      "source": [
        "Exercise: iterate over the zipped `surnames`-`ages` lists, but sorted by age."
      ]
    },
    {
      "cell_type": "code",
      "execution_count": null,
      "id": "a3faebbf",
      "metadata": {
        "colab": {
          "base_uri": "https://localhost:8080/"
        },
        "id": "a3faebbf",
        "outputId": "c5c443a7-2d39-47ac-e3a1-44c4d9042dfd"
      },
      "outputs": [
        {
          "name": "stdout",
          "output_type": "stream",
          "text": [
            "Mr. Pontmercy is 26 years old.\n",
            "Mr. Javert is 38 years old.\n",
            "Mr. Valjean is 40 years old.\n",
            "Mr. Myriel is 62 years old.\n"
          ]
        }
      ],
      "source": [
        "for age, surname in sorted(zip(ages, surnames)):\n",
        "    print(f\"Mr. {surname} is {age} years old.\")"
      ]
    },
    {
      "cell_type": "markdown",
      "id": "99893a94",
      "metadata": {
        "id": "99893a94"
      },
      "source": [
        "# A new data structure: a dictionary\n",
        "\n",
        "We can see dictionaries as generalisation of lists in which the indices associated with the values do not necessarily form an increasing sequence of integers starting from zero.\n",
        "Rather, in a dictionary, values can be associated with many other types of indices, including strings.\n",
        "The indices of a dictionary are called keys.\n",
        "Therefore, in a dictionary, each key has a corresponding associated value."
      ]
    },
    {
      "cell_type": "code",
      "execution_count": null,
      "id": "cac562ba",
      "metadata": {
        "id": "cac562ba"
      },
      "outputs": [],
      "source": [
        "character_age = {\n",
        "    'Valjean': 40,\n",
        "    'Javert': 38,\n",
        "    'Myriel': 62\n",
        "}"
      ]
    },
    {
      "cell_type": "code",
      "execution_count": null,
      "id": "fdced14f",
      "metadata": {
        "colab": {
          "base_uri": "https://localhost:8080/"
        },
        "id": "fdced14f",
        "outputId": "f5f6007b-5a7b-410a-b416-d66d04dbfacb"
      },
      "outputs": [
        {
          "data": {
            "text/plain": [
              "{'Valjean': 40, 'Javert': 38, 'Myriel': 62}"
            ]
          },
          "execution_count": 82,
          "metadata": {},
          "output_type": "execute_result"
        }
      ],
      "source": [
        "character_age"
      ]
    },
    {
      "cell_type": "markdown",
      "id": "fu-awjDBsFqf",
      "metadata": {
        "id": "fu-awjDBsFqf"
      },
      "source": [
        "We access dictionary values using the same square-bracket syntax that we use to access list values."
      ]
    },
    {
      "cell_type": "code",
      "execution_count": null,
      "id": "0daaa970",
      "metadata": {
        "colab": {
          "base_uri": "https://localhost:8080/"
        },
        "id": "0daaa970",
        "outputId": "bd804a33-4153-43ff-cbda-0820253bc376"
      },
      "outputs": [
        {
          "data": {
            "text/plain": [
              "40"
            ]
          },
          "execution_count": 58,
          "metadata": {},
          "output_type": "execute_result"
        }
      ],
      "source": [
        "character_age['Valjean']"
      ]
    },
    {
      "cell_type": "markdown",
      "id": "NifPdA9XsLx3",
      "metadata": {
        "id": "NifPdA9XsLx3"
      },
      "source": [
        "To add a new key-value entry to a dictionary, we can simply assign using the `=` operator.\n",
        "If the key we use is not already in the dictionary, we will create a new entry.\n",
        "Remark, however, that if the key already is in the dictionary, then we will update the existing value: there cannot be duplicate keys.\n",
        "\n",
        "To summarise:\n",
        "* Lists allow duplicate values. E.g., `[1, 0, 1, 1, 2, 4]` is a valid list.\n",
        "* Dictionaries also allow duplicate values. E.g., `{0: 2, 1: 2, 4: 3, 5: 2}` is a dictionary in which the value `2` appears three times.\n",
        "* However, dictionaries do not allow duplicate keys. `{0: 2, 1: 2, 4: 3, 0: 80}` is not a semantically valid dictionary because the key `0` appears twice. (If you write this code, Python will not raise an error, but it will give you a dictionary in which the key `0` is associated with the value that appears the last; in our case, `80`.)"
      ]
    },
    {
      "cell_type": "code",
      "execution_count": null,
      "id": "7e7f2d25",
      "metadata": {
        "id": "7e7f2d25"
      },
      "outputs": [],
      "source": [
        "character_age['Pontmercy'] = 26"
      ]
    },
    {
      "cell_type": "code",
      "execution_count": null,
      "id": "cb408665",
      "metadata": {
        "colab": {
          "base_uri": "https://localhost:8080/"
        },
        "id": "cb408665",
        "outputId": "6b118e82-c378-4270-f249-ca5902b235c6"
      },
      "outputs": [
        {
          "data": {
            "text/plain": [
              "{'Valjean': 40, 'Javert': 38, 'Myriel': 62, 'Pontmercy': 26}"
            ]
          },
          "execution_count": 60,
          "metadata": {},
          "output_type": "execute_result"
        }
      ],
      "source": [
        "character_age"
      ]
    },
    {
      "cell_type": "markdown",
      "id": "bff077bf",
      "metadata": {
        "id": "bff077bf"
      },
      "source": [
        "## Looping through a dictionary\n",
        "\n",
        "Using a `for` loop similar to the one we used for lists will only loop through the dictionary's keys!"
      ]
    },
    {
      "cell_type": "code",
      "execution_count": null,
      "id": "2394a158",
      "metadata": {
        "colab": {
          "base_uri": "https://localhost:8080/"
        },
        "id": "2394a158",
        "outputId": "c5869f1a-72e3-47a6-cf46-50b8994d7cfd"
      },
      "outputs": [
        {
          "name": "stdout",
          "output_type": "stream",
          "text": [
            "Valjean\n",
            "Javert\n",
            "Myriel\n",
            "Pontmercy\n"
          ]
        }
      ],
      "source": [
        "for surname in character_age:\n",
        "    print(surname)"
      ]
    },
    {
      "cell_type": "markdown",
      "id": "j46RLvvMtRu7",
      "metadata": {
        "id": "j46RLvvMtRu7"
      },
      "source": [
        "Most of the time we want both keys and values.\n",
        "We could use the keys to access the values, but this is more verbose and not Pythonic."
      ]
    },
    {
      "cell_type": "code",
      "execution_count": null,
      "id": "fcafa2e6",
      "metadata": {
        "colab": {
          "base_uri": "https://localhost:8080/"
        },
        "id": "fcafa2e6",
        "outputId": "cba4b3b1-7ec8-4041-b2dc-883122989b63"
      },
      "outputs": [
        {
          "name": "stdout",
          "output_type": "stream",
          "text": [
            "Mr. Valjean is 40 years old.\n",
            "Mr. Javert is 38 years old.\n",
            "Mr. Myriel is 62 years old.\n",
            "Mr. Pontmercy is 26 years old.\n"
          ]
        }
      ],
      "source": [
        "# Not great:\n",
        "\n",
        "for surname in character_age:\n",
        "    print(f\"Mr. {surname} is {character_age[surname]} years old.\")"
      ]
    },
    {
      "cell_type": "markdown",
      "id": "tPWE7ss2tZ5o",
      "metadata": {
        "id": "tPWE7ss2tZ5o"
      },
      "source": [
        "Instead, it is recommended to use the `.items()` function of the dictionary, which returns, at each iteration, both key and value.\n",
        "\n",
        "Remark that, in this case, we need two `<name>`s in our `for` loop: one to hold the key and one to hold the value."
      ]
    },
    {
      "cell_type": "code",
      "execution_count": null,
      "id": "0b827d35",
      "metadata": {
        "colab": {
          "base_uri": "https://localhost:8080/"
        },
        "id": "0b827d35",
        "outputId": "15abf699-a153-447b-ca22-7ca29a0d26f4"
      },
      "outputs": [
        {
          "name": "stdout",
          "output_type": "stream",
          "text": [
            "Mr. Valjean is 40 years old.\n",
            "Mr. Javert is 38 years old.\n",
            "Mr. Myriel is 62 years old.\n",
            "Mr. Pontmercy is 26 years old.\n"
          ]
        }
      ],
      "source": [
        "# Better:\n",
        "for surname, age in character_age.items():\n",
        "    print(f\"Mr. {surname} is {age} years old.\")"
      ]
    },
    {
      "cell_type": "markdown",
      "id": "a874be47",
      "metadata": {
        "id": "a874be47"
      },
      "source": [
        "## Dictionary comprehension\n",
        "\n",
        "You can use dictionary comprehension similarly as you did with list comprehension."
      ]
    },
    {
      "cell_type": "code",
      "execution_count": null,
      "id": "d84f4a62",
      "metadata": {
        "colab": {
          "base_uri": "https://localhost:8080/"
        },
        "id": "d84f4a62",
        "outputId": "fdf6d182-e7fe-4dc0-e3ac-b2495ba768e0"
      },
      "outputs": [
        {
          "data": {
            "text/plain": [
              "{'Valjean': 40, 'Javert': 38, 'Myriel': 62}"
            ]
          },
          "execution_count": 84,
          "metadata": {},
          "output_type": "execute_result"
        }
      ],
      "source": [
        "# Filter by value\n",
        "{surname: age for surname, age in character_age.items() if age > 30}"
      ]
    },
    {
      "cell_type": "code",
      "execution_count": null,
      "id": "5c2c40ad",
      "metadata": {
        "colab": {
          "base_uri": "https://localhost:8080/"
        },
        "id": "5c2c40ad",
        "outputId": "b8d69468-b505-4070-83ce-de2179707291"
      },
      "outputs": [
        {
          "data": {
            "text/plain": [
              "{'Valjean': 40, 'Javert': 38}"
            ]
          },
          "execution_count": 85,
          "metadata": {},
          "output_type": "execute_result"
        }
      ],
      "source": [
        "# Filter by key\n",
        "{surname: age for surname, age in character_age.items() if 'j' in surname.lower()}"
      ]
    },
    {
      "cell_type": "code",
      "execution_count": null,
      "id": "0ef34bd2",
      "metadata": {
        "colab": {
          "base_uri": "https://localhost:8080/"
        },
        "id": "0ef34bd2",
        "outputId": "bc0465c8-b476-4d13-c6aa-f20581cbafa5"
      },
      "outputs": [
        {
          "data": {
            "text/plain": [
              "{'Valjean': 80, 'Javert': 76, 'Myriel': 124}"
            ]
          },
          "execution_count": 86,
          "metadata": {},
          "output_type": "execute_result"
        }
      ],
      "source": [
        "# Transform the values\n",
        "{surname: age * 2 for surname, age in character_age.items()}"
      ]
    },
    {
      "cell_type": "code",
      "execution_count": null,
      "id": "c1f125d3",
      "metadata": {
        "colab": {
          "base_uri": "https://localhost:8080/"
        },
        "id": "c1f125d3",
        "outputId": "4823d0c4-16e0-4507-f571-e19d3680f8db"
      },
      "outputs": [
        {
          "data": {
            "text/plain": [
              "{'VALJEAN': 20.0, 'JAVERT': 19.0, 'MYRIEL': 31.0}"
            ]
          },
          "execution_count": 87,
          "metadata": {},
          "output_type": "execute_result"
        }
      ],
      "source": [
        "# Transform both keys and values\n",
        "{surname.upper(): age / 2 for surname, age in character_age.items()}"
      ]
    },
    {
      "cell_type": "markdown",
      "id": "130592c0",
      "metadata": {
        "id": "130592c0"
      },
      "source": [
        "# Functions\n",
        "\n",
        "A function is a block of named code that (optinally) takes some inputs, performs operations, and (optionally) returns some outputs.\n",
        "\n",
        "In Python, you define a function as follows:"
      ]
    },
    {
      "cell_type": "code",
      "execution_count": null,
      "id": "f61212ab",
      "metadata": {
        "id": "f61212ab"
      },
      "outputs": [],
      "source": [
        "def after_taxes(profit, tax_rate):\n",
        "    return profit * (1 - tax_rate)"
      ]
    },
    {
      "cell_type": "markdown",
      "id": "mUWmUoKmt_uq",
      "metadata": {
        "id": "mUWmUoKmt_uq"
      },
      "source": [
        "And you use it like this:"
      ]
    },
    {
      "cell_type": "code",
      "execution_count": null,
      "id": "6346fc03",
      "metadata": {
        "colab": {
          "base_uri": "https://localhost:8080/"
        },
        "id": "6346fc03",
        "outputId": "261621ba-6e0c-496f-8897-06601f0f8b4c"
      },
      "outputs": [
        {
          "data": {
            "text/plain": [
              "87500.0"
            ]
          },
          "execution_count": 69,
          "metadata": {},
          "output_type": "execute_result"
        }
      ],
      "source": [
        "after_taxes(100_000, 0.125)"
      ]
    },
    {
      "cell_type": "markdown",
      "id": "KRNPfz4RuB9q",
      "metadata": {
        "id": "KRNPfz4RuB9q"
      },
      "source": [
        "However, these are not the best ways to define and use a function.\n",
        "\n",
        "I recommend that you:\n",
        "* Use type annotations to give a hint of the types you expect as parameters.\n",
        "* Use type annotations to give a hint of the type that your function will return.\n",
        "* Use default parameter values if this is appropriate in your case.\n",
        "* Call functions using named parameter to avoid any confusion on which parameter does what."
      ]
    },
    {
      "cell_type": "code",
      "execution_count": null,
      "id": "70b34d1f",
      "metadata": {
        "id": "70b34d1f"
      },
      "outputs": [],
      "source": [
        "def after_taxes(profit: int, tax_rate: float = 0.15) -> float:\n",
        "    return profit * (1 - tax_rate)"
      ]
    },
    {
      "cell_type": "code",
      "execution_count": null,
      "id": "584f8ba2",
      "metadata": {
        "colab": {
          "base_uri": "https://localhost:8080/"
        },
        "id": "584f8ba2",
        "outputId": "12ccbb3a-6b46-46db-a945-ecbdfa8ce74f"
      },
      "outputs": [
        {
          "data": {
            "text/plain": [
              "87500.0"
            ]
          },
          "execution_count": 71,
          "metadata": {},
          "output_type": "execute_result"
        }
      ],
      "source": [
        "after_taxes(profit=100_000, tax_rate=0.125)"
      ]
    },
    {
      "cell_type": "code",
      "execution_count": null,
      "id": "0beba507",
      "metadata": {
        "colab": {
          "base_uri": "https://localhost:8080/"
        },
        "id": "0beba507",
        "outputId": "797ad5da-387f-4534-ffc3-608093da6279"
      },
      "outputs": [
        {
          "data": {
            "text/plain": [
              "21250.0"
            ]
          },
          "execution_count": 72,
          "metadata": {},
          "output_type": "execute_result"
        }
      ],
      "source": [
        "after_taxes(profit=25_000)"
      ]
    },
    {
      "cell_type": "markdown",
      "id": "-x-ppbFauXCo",
      "metadata": {
        "id": "-x-ppbFauXCo"
      },
      "source": [
        "The above code gives you a good way of defining a function and using it.\n",
        "Remark, however, that this function is a bit strange for its real-life use case.\n",
        "If your company has lost money (negative profit) you should not get a \"reverse\" taxation applied to it."
      ]
    },
    {
      "cell_type": "code",
      "execution_count": null,
      "id": "5d06f5a1",
      "metadata": {
        "colab": {
          "base_uri": "https://localhost:8080/"
        },
        "id": "5d06f5a1",
        "outputId": "5c3454ab-8ed6-4d1b-d9af-d011f4248f84"
      },
      "outputs": [
        {
          "data": {
            "text/plain": [
              "-17000.0"
            ]
          },
          "execution_count": 73,
          "metadata": {},
          "output_type": "execute_result"
        }
      ],
      "source": [
        "after_taxes(profit=-20_000)"
      ]
    },
    {
      "cell_type": "markdown",
      "id": "JYXn1x4vuzxr",
      "metadata": {
        "id": "JYXn1x4vuzxr"
      },
      "source": [
        "The tax rate should only be applied to positive profits; otherwise, you pay zero taxes on losses.\n",
        "We can easily change our function to handle the negative profit case using an `if` statement."
      ]
    },
    {
      "cell_type": "code",
      "execution_count": null,
      "id": "694be797",
      "metadata": {
        "id": "694be797"
      },
      "outputs": [],
      "source": [
        "def after_taxes(profit: int, tax_rate: float = 0.15) -> float:\n",
        "    if profit > 0:\n",
        "        return profit * (1 - tax_rate)\n",
        "    return float(profit)"
      ]
    },
    {
      "cell_type": "code",
      "execution_count": null,
      "id": "8d6b6c58",
      "metadata": {
        "colab": {
          "base_uri": "https://localhost:8080/"
        },
        "id": "8d6b6c58",
        "outputId": "c65ab22e-ed86-4be8-9526-5e645b28cd7f"
      },
      "outputs": [
        {
          "data": {
            "text/plain": [
              "-20000.0"
            ]
          },
          "execution_count": 90,
          "metadata": {},
          "output_type": "execute_result"
        }
      ],
      "source": [
        "after_taxes(profit=-20_000)"
      ]
    },
    {
      "cell_type": "markdown",
      "id": "AUTLcRA0u56n",
      "metadata": {
        "id": "AUTLcRA0u56n"
      },
      "source": [
        "There are still weird things that our function can do.\n",
        "For example, a distracted user might pass a *negative* tax rate.\n",
        "We can warn the user of invalid input values by *raising an exception* in case we encounter such invalid values."
      ]
    },
    {
      "cell_type": "code",
      "execution_count": null,
      "id": "fe7fa82c",
      "metadata": {
        "colab": {
          "base_uri": "https://localhost:8080/"
        },
        "id": "fe7fa82c",
        "outputId": "bc04ede0-008b-4efe-d0bf-27712687bd35"
      },
      "outputs": [
        {
          "data": {
            "text/plain": [
              "15000.0"
            ]
          },
          "execution_count": 91,
          "metadata": {},
          "output_type": "execute_result"
        }
      ],
      "source": [
        "# Oooooops... your are giving yourself free money\n",
        "after_taxes(profit=10_000, tax_rate=-0.5)\n",
        "\n",
        "# Let's fix this..."
      ]
    },
    {
      "cell_type": "code",
      "execution_count": null,
      "id": "49cd064e",
      "metadata": {
        "id": "49cd064e"
      },
      "outputs": [],
      "source": [
        "def after_taxes(profit: int, tax_rate: float = 0.15) -> float:\n",
        "    if tax_rate < 0 or tax_rate > 1:\n",
        "        raise ValueError(f\"The tax rate must be between 0 and 1. Value {tax_rate} invalid.\")\n",
        "\n",
        "    if profit > 0:\n",
        "        return profit * (1 - tax_rate)\n",
        "    return float(profit)"
      ]
    },
    {
      "cell_type": "code",
      "execution_count": null,
      "id": "c7cb7218",
      "metadata": {
        "colab": {
          "base_uri": "https://localhost:8080/",
          "height": 276
        },
        "id": "c7cb7218",
        "outputId": "781f17ec-370a-42ec-c113-4a3b0c098e3f"
      },
      "outputs": [
        {
          "ename": "ValueError",
          "evalue": "The tax rate must be between 0 and 1. Value -0.5 invalid.",
          "output_type": "error",
          "traceback": [
            "\u001b[0;31m---------------------------------------------------------------------------\u001b[0m",
            "\u001b[0;31mValueError\u001b[0m                                Traceback (most recent call last)",
            "\u001b[0;32m/tmp/ipython-input-2286793478.py\u001b[0m in \u001b[0;36m<cell line: 0>\u001b[0;34m()\u001b[0m\n\u001b[0;32m----> 1\u001b[0;31m \u001b[0mafter_taxes\u001b[0m\u001b[0;34m(\u001b[0m\u001b[0mprofit\u001b[0m\u001b[0;34m=\u001b[0m\u001b[0;36m10_000\u001b[0m\u001b[0;34m,\u001b[0m \u001b[0mtax_rate\u001b[0m\u001b[0;34m=\u001b[0m\u001b[0;34m-\u001b[0m\u001b[0;36m0.5\u001b[0m\u001b[0;34m)\u001b[0m\u001b[0;34m\u001b[0m\u001b[0;34m\u001b[0m\u001b[0m\n\u001b[0m",
            "\u001b[0;32m/tmp/ipython-input-1589759330.py\u001b[0m in \u001b[0;36mafter_taxes\u001b[0;34m(profit, tax_rate)\u001b[0m\n\u001b[1;32m      1\u001b[0m \u001b[0;32mdef\u001b[0m \u001b[0mafter_taxes\u001b[0m\u001b[0;34m(\u001b[0m\u001b[0mprofit\u001b[0m\u001b[0;34m:\u001b[0m \u001b[0mint\u001b[0m\u001b[0;34m,\u001b[0m \u001b[0mtax_rate\u001b[0m\u001b[0;34m:\u001b[0m \u001b[0mfloat\u001b[0m \u001b[0;34m=\u001b[0m \u001b[0;36m0.15\u001b[0m\u001b[0;34m)\u001b[0m \u001b[0;34m->\u001b[0m \u001b[0mfloat\u001b[0m\u001b[0;34m:\u001b[0m\u001b[0;34m\u001b[0m\u001b[0;34m\u001b[0m\u001b[0m\n\u001b[1;32m      2\u001b[0m     \u001b[0;32mif\u001b[0m \u001b[0mtax_rate\u001b[0m \u001b[0;34m<\u001b[0m \u001b[0;36m0\u001b[0m \u001b[0;32mor\u001b[0m \u001b[0mtax_rate\u001b[0m \u001b[0;34m>\u001b[0m \u001b[0;36m1\u001b[0m\u001b[0;34m:\u001b[0m\u001b[0;34m\u001b[0m\u001b[0;34m\u001b[0m\u001b[0m\n\u001b[0;32m----> 3\u001b[0;31m         \u001b[0;32mraise\u001b[0m \u001b[0mValueError\u001b[0m\u001b[0;34m(\u001b[0m\u001b[0;34mf\"The tax rate must be between 0 and 1. Value {tax_rate} invalid.\"\u001b[0m\u001b[0;34m)\u001b[0m\u001b[0;34m\u001b[0m\u001b[0;34m\u001b[0m\u001b[0m\n\u001b[0m\u001b[1;32m      4\u001b[0m \u001b[0;34m\u001b[0m\u001b[0m\n\u001b[1;32m      5\u001b[0m     \u001b[0;32mif\u001b[0m \u001b[0mprofit\u001b[0m \u001b[0;34m>\u001b[0m \u001b[0;36m0\u001b[0m\u001b[0;34m:\u001b[0m\u001b[0;34m\u001b[0m\u001b[0;34m\u001b[0m\u001b[0m\n",
            "\u001b[0;31mValueError\u001b[0m: The tax rate must be between 0 and 1. Value -0.5 invalid."
          ]
        }
      ],
      "source": [
        "after_taxes(profit=10_000, tax_rate=-0.5)"
      ]
    }
  ],
  "metadata": {
    "colab": {
      "provenance": [],
      "toc_visible": true
    },
    "kernelspec": {
      "display_name": "machine-learning",
      "language": "python",
      "name": "python3"
    },
    "language_info": {
      "name": "python"
    }
  },
  "nbformat": 4,
  "nbformat_minor": 5
}
